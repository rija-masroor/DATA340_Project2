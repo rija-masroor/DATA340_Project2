{
 "cells": [
  {
   "cell_type": "markdown",
   "metadata": {},
   "source": [
    "# Author prediction using RNNs\n",
    "\n",
    "In this notebook, you will prepare a dataset to predict authorship of the Federalist Papers using Recurrent Neural Networks (RNNs).\n",
    "\n",
    "## Federalist Papers\n",
    "\n",
    "The Federalist Papers are a collection of 85 articles and essays written by Alexander Hamilton, James Madison, and John Jay under the pseudonym \"Publius\". They were published in 1787 and 1788 to promote the ratification of the United States Constitution. The authors of the Federalist Papers wanted to remain anonymous, so they used the pseudonym \"Publius\". The articles were published in two newspapers, the New York Packet and the Independent Journal. The Federalist Papers are considered important works of American political thought and are still widely read today.\n",
    "\n",
    "## Additional information\n",
    "\n",
    "- [Federalist Papers](https://en.wikipedia.org/wiki/The_Federalist_Papers)\n",
    "- [Federalist Papers dataset](https://www.kaggle.com/datasets/tobyanderson/federalist-papers)\n",
    "- [LOC Research Guide](https://guides.loc.gov/federalist-papers/full-text)\n",
    "\n",
    "## Objectives (a)\n",
    "\n",
    "- Task 1: Design your dataset to predict the author of a text using RNNs.\n",
    "- Task 2: Explain the methodology of your dataset creation.\n",
    "- Task 3: Establish a baseline model using Machine Learning algorithms (SVM, Random Forest, etc.).\n",
    "  \n",
    "## Objectives (b)\n",
    "\n",
    "- Task 4: Train a RNN model to predict the author of a text.\n",
    "- Task 5: Evaluate the performance of your model.\n",
    "- Task 6: Explain your model architecture, hyperparameters, and the results of your model."
   ]
  },
  {
   "cell_type": "markdown",
   "metadata": {},
   "source": [
    "## Task 1: Dataset Creation"
   ]
  },
  {
   "cell_type": "markdown",
   "metadata": {},
   "source": [
    "### Dataset description\n",
    "\n",
    "Use the below code to scrape the Library of Congress research guide for the Federalist Papers. You need to pip install the following for the below code to work:\n",
    "\n",
    "- `pip install beautifulsoup4`\n",
    "- `pip install requests`\n",
    "- `pip install pandas`"
   ]
  },
  {
   "cell_type": "code",
   "execution_count": 18,
   "metadata": {},
   "outputs": [],
   "source": [
    "import pandas as pd\n",
    "from io import StringIO\n",
    "from bs4 import BeautifulSoup as bs\n",
    "import requests\n",
    "\n",
    "url = 'https://guides.loc.gov/federalist-papers/full-text'\n",
    "\n",
    "html = requests.get(url).text\n",
    "soup = bs(html, 'html.parser')\n",
    "\n",
    "# convert the html table to a pandas dataframe\n",
    "table = soup.find('table')\n",
    "\n",
    "# List of Federalist Papers\n",
    "meta_df = pd.read_html(StringIO(str(table)), parse_dates=True)[0]"
   ]
  },
  {
   "cell_type": "markdown",
   "metadata": {},
   "source": [
    "### Dataset datatypes"
   ]
  },
  {
   "cell_type": "code",
   "execution_count": 19,
   "metadata": {},
   "outputs": [
    {
     "name": "stdout",
     "output_type": "stream",
     "text": [
      "<class 'pandas.core.frame.DataFrame'>\n",
      "RangeIndex: 85 entries, 0 to 84\n",
      "Data columns (total 5 columns):\n",
      " #   Column       Non-Null Count  Dtype  \n",
      "---  ------       --------------  -----  \n",
      " 0   No.          85 non-null     float64\n",
      " 1   Title        85 non-null     object \n",
      " 2   Author       85 non-null     object \n",
      " 3   Publication  85 non-null     object \n",
      " 4   Date         85 non-null     object \n",
      "dtypes: float64(1), object(4)\n",
      "memory usage: 3.4+ KB\n"
     ]
    }
   ],
   "source": [
    "meta_df.info()"
   ]
  },
  {
   "cell_type": "code",
   "execution_count": 20,
   "metadata": {},
   "outputs": [
    {
     "data": {
      "text/html": [
       "<div>\n",
       "<style scoped>\n",
       "    .dataframe tbody tr th:only-of-type {\n",
       "        vertical-align: middle;\n",
       "    }\n",
       "\n",
       "    .dataframe tbody tr th {\n",
       "        vertical-align: top;\n",
       "    }\n",
       "\n",
       "    .dataframe thead th {\n",
       "        text-align: right;\n",
       "    }\n",
       "</style>\n",
       "<table border=\"1\" class=\"dataframe\">\n",
       "  <thead>\n",
       "    <tr style=\"text-align: right;\">\n",
       "      <th></th>\n",
       "      <th>No.</th>\n",
       "      <th>Title</th>\n",
       "      <th>Author</th>\n",
       "      <th>Publication</th>\n",
       "      <th>Date</th>\n",
       "    </tr>\n",
       "  </thead>\n",
       "  <tbody>\n",
       "    <tr>\n",
       "      <th>0</th>\n",
       "      <td>1.0</td>\n",
       "      <td>General Introduction</td>\n",
       "      <td>Hamilton</td>\n",
       "      <td>For the Independent Journal</td>\n",
       "      <td>--</td>\n",
       "    </tr>\n",
       "    <tr>\n",
       "      <th>1</th>\n",
       "      <td>2.0</td>\n",
       "      <td>Concerning Dangers from Foreign Force and Infl...</td>\n",
       "      <td>Jay</td>\n",
       "      <td>For the Independent Journal</td>\n",
       "      <td>--</td>\n",
       "    </tr>\n",
       "    <tr>\n",
       "      <th>2</th>\n",
       "      <td>3.0</td>\n",
       "      <td>The Same Subject Continued: Concerning Dangers...</td>\n",
       "      <td>Jay</td>\n",
       "      <td>For the Independent Journal</td>\n",
       "      <td>--</td>\n",
       "    </tr>\n",
       "    <tr>\n",
       "      <th>3</th>\n",
       "      <td>4.0</td>\n",
       "      <td>The Same Subject Continued: Concerning Dangers...</td>\n",
       "      <td>Jay</td>\n",
       "      <td>For the Independent Journal</td>\n",
       "      <td>--</td>\n",
       "    </tr>\n",
       "    <tr>\n",
       "      <th>4</th>\n",
       "      <td>5.0</td>\n",
       "      <td>The Same Subject Continued: Concerning Dangers...</td>\n",
       "      <td>Jay</td>\n",
       "      <td>For the Independent Journal</td>\n",
       "      <td>--</td>\n",
       "    </tr>\n",
       "  </tbody>\n",
       "</table>\n",
       "</div>"
      ],
      "text/plain": [
       "   No.                                              Title    Author  \\\n",
       "0  1.0                               General Introduction  Hamilton   \n",
       "1  2.0  Concerning Dangers from Foreign Force and Infl...       Jay   \n",
       "2  3.0  The Same Subject Continued: Concerning Dangers...       Jay   \n",
       "3  4.0  The Same Subject Continued: Concerning Dangers...       Jay   \n",
       "4  5.0  The Same Subject Continued: Concerning Dangers...       Jay   \n",
       "\n",
       "                   Publication Date  \n",
       "0  For the Independent Journal   --  \n",
       "1  For the Independent Journal   --  \n",
       "2  For the Independent Journal   --  \n",
       "3  For the Independent Journal   --  \n",
       "4  For the Independent Journal   --  "
      ]
     },
     "execution_count": 20,
     "metadata": {},
     "output_type": "execute_result"
    }
   ],
   "source": [
    "meta_df.head()"
   ]
  },
  {
   "cell_type": "markdown",
   "metadata": {},
   "source": [
    "### Autorship counts\n",
    "\n",
    "Plot the count the number of papers written by each author. We want to create a machine learning dataset that consists of a train, validation, and test set. We will use the train set to train the model, the validation set to tune the hyperparameters, and the test set to evaluate the model."
   ]
  },
  {
   "cell_type": "code",
   "execution_count": 21,
   "metadata": {},
   "outputs": [
    {
     "data": {
      "image/png": "[encoded data removed]",
      "text/plain": [
       "<Figure size 720x432 with 1 Axes>"
      ]
     },
     "metadata": {
      "needs_background": "light"
     },
     "output_type": "display_data"
    }
   ],
   "source": [
    "import matplotlib.pyplot as plt\n",
    "import seaborn as sns\n",
    "\n",
    "# plot the number of papers written by each author\n",
    "plt.figure(figsize=(10, 6))\n",
    "sns.countplot(y='Author', data=meta_df)\n",
    "plt.title('Number of Papers Written by Each Author')\n",
    "plt.show()"
   ]
  },
  {
   "cell_type": "code",
   "execution_count": 22,
   "metadata": {},
   "outputs": [
    {
     "name": "stdout",
     "output_type": "stream",
     "text": [
      "                 Author  Number of Papers\n",
      "0              Hamilton                51\n",
      "1  Hamilton and Madison                 3\n",
      "2   Hamilton or Madison                11\n",
      "3                   Jay                 5\n",
      "4               Madison                15\n"
     ]
    }
   ],
   "source": [
    "# Group by author and count the number of papers\n",
    "papers_per_author = meta_df.groupby('Author')['No.'].count().reset_index()\n",
    "papers_per_author.columns = ['Author', 'Number of Papers']\n",
    "print(papers_per_author)\n"
   ]
  },
  {
   "cell_type": "markdown",
   "metadata": {},
   "source": [
    "Based on the data, answer the following questions:\n",
    "\n",
    "- How many papers were written by each author?\n",
    "- How should you construct your dataset? Explain your reasoning."
   ]
  },
  {
   "cell_type": "markdown",
   "metadata": {},
   "source": [
    "Hamilton wrote 51, Jay wrote 5 and Madison wrote 15. There are 3 papers that are written together by Hamilton and Madison. There are 11 papers that seem to be written by either Hamilton or Madison.\n",
    "\n",
    "To analyze and determine the authorship of the disputed papers, we will separate "
   ]
  },
  {
   "cell_type": "markdown",
   "metadata": {},
   "source": [
    "### Contested authorship"
   ]
  },
  {
   "cell_type": "code",
   "execution_count": 23,
   "metadata": {},
   "outputs": [
    {
     "name": "stdout",
     "output_type": "stream",
     "text": [
      "Contested authorship of papers: [49. 50. 51. 52. 53. 54. 55. 56. 57. 62. 63.]\n",
      "Total number of disputed papers: 11\n"
     ]
    }
   ],
   "source": [
    "# disputed papers\n",
    "disputed_papers = meta_df[meta_df['Author'] == 'Hamilton or Madison']\n",
    "contested_authorship = disputed_papers['No.'].values\n",
    "print(f'Contested authorship of papers: {contested_authorship}')\n",
    "print(f'Total number of disputed papers: {len(disputed_papers)}')"
   ]
  },
  {
   "cell_type": "markdown",
   "metadata": {},
   "source": [
    "### Load the Federalist Papers corpus\n",
    "\n",
    "The following code loads the Federalist Papers corpus. The papers have been preprocessed to aid your analysis of the authorship of the papers."
   ]
  },
  {
   "cell_type": "code",
   "execution_count": 24,
   "metadata": {},
   "outputs": [
    {
     "data": {
      "text/html": [
       "<div>\n",
       "<style scoped>\n",
       "    .dataframe tbody tr th:only-of-type {\n",
       "        vertical-align: middle;\n",
       "    }\n",
       "\n",
       "    .dataframe tbody tr th {\n",
       "        vertical-align: top;\n",
       "    }\n",
       "\n",
       "    .dataframe thead th {\n",
       "        text-align: right;\n",
       "    }\n",
       "</style>\n",
       "<table border=\"1\" class=\"dataframe\">\n",
       "  <thead>\n",
       "    <tr style=\"text-align: right;\">\n",
       "      <th></th>\n",
       "      <th>text</th>\n",
       "      <th>paper_id</th>\n",
       "      <th>target</th>\n",
       "      <th>sentences</th>\n",
       "      <th>sentence_length</th>\n",
       "      <th>sentence_index</th>\n",
       "      <th>total_sentences</th>\n",
       "    </tr>\n",
       "  </thead>\n",
       "  <tbody>\n",
       "    <tr>\n",
       "      <th>0</th>\n",
       "      <td>Method of Guarding Against the Encroachments o...</td>\n",
       "      <td>49</td>\n",
       "      <td>dispt</td>\n",
       "      <td>Method of Guarding Against the Encroachments o...</td>\n",
       "      <td>25</td>\n",
       "      <td>0</td>\n",
       "      <td>63</td>\n",
       "    </tr>\n",
       "    <tr>\n",
       "      <th>0</th>\n",
       "      <td>Method of Guarding Against the Encroachments o...</td>\n",
       "      <td>49</td>\n",
       "      <td>dispt</td>\n",
       "      <td>Tuesday, February 5, 1788.</td>\n",
       "      <td>4</td>\n",
       "      <td>1</td>\n",
       "      <td>63</td>\n",
       "    </tr>\n",
       "    <tr>\n",
       "      <th>0</th>\n",
       "      <td>Method of Guarding Against the Encroachments o...</td>\n",
       "      <td>49</td>\n",
       "      <td>dispt</td>\n",
       "      <td>Author: Alexander Hamilton or James Madison</td>\n",
       "      <td>6</td>\n",
       "      <td>2</td>\n",
       "      <td>63</td>\n",
       "    </tr>\n",
       "    <tr>\n",
       "      <th>0</th>\n",
       "      <td>Method of Guarding Against the Encroachments o...</td>\n",
       "      <td>49</td>\n",
       "      <td>dispt</td>\n",
       "      <td>To the People of the State of New York:</td>\n",
       "      <td>9</td>\n",
       "      <td>3</td>\n",
       "      <td>63</td>\n",
       "    </tr>\n",
       "    <tr>\n",
       "      <th>0</th>\n",
       "      <td>Method of Guarding Against the Encroachments o...</td>\n",
       "      <td>49</td>\n",
       "      <td>dispt</td>\n",
       "      <td>THE author of the \"Notes on the State of Virgi...</td>\n",
       "      <td>56</td>\n",
       "      <td>4</td>\n",
       "      <td>63</td>\n",
       "    </tr>\n",
       "  </tbody>\n",
       "</table>\n",
       "</div>"
      ],
      "text/plain": [
       "                                                text paper_id target  \\\n",
       "0  Method of Guarding Against the Encroachments o...       49  dispt   \n",
       "0  Method of Guarding Against the Encroachments o...       49  dispt   \n",
       "0  Method of Guarding Against the Encroachments o...       49  dispt   \n",
       "0  Method of Guarding Against the Encroachments o...       49  dispt   \n",
       "0  Method of Guarding Against the Encroachments o...       49  dispt   \n",
       "\n",
       "                                           sentences  sentence_length  \\\n",
       "0  Method of Guarding Against the Encroachments o...               25   \n",
       "0                         Tuesday, February 5, 1788.                4   \n",
       "0        Author: Alexander Hamilton or James Madison                6   \n",
       "0            To the People of the State of New York:                9   \n",
       "0  THE author of the \"Notes on the State of Virgi...               56   \n",
       "\n",
       "   sentence_index  total_sentences  \n",
       "0               0               63  \n",
       "0               1               63  \n",
       "0               2               63  \n",
       "0               3               63  \n",
       "0               4               63  "
      ]
     },
     "execution_count": 24,
     "metadata": {},
     "output_type": "execute_result"
    }
   ],
   "source": [
    "corpus = pd.read_pickle('fp_corpus.pkl')\n",
    "corpus.head()"
   ]
  },
  {
   "cell_type": "markdown",
   "metadata": {},
   "source": [
    "The above datasets contains the following columns:\n",
    "\n",
    "- `paper_id`: The ID of the paper. This corresponds to the number of the paper in the Federalist Papers collection.\n",
    "- `author`: The author of the paper. This can be one of three values: `Hamilton`, `Madison`, `Jay`, `dispt` (disputed), and `HM` (Hamilton and Madison).\n",
    "- `text`: The text of the paper.\n",
    "- `sentence_length`: The token count of the sentence, defined as the number of tokens by splitting the sentence by spaces.\n",
    "- `sentence_index`: The index of the sentence in the paper.\n",
    "- `total_sentences`: The total number of sentences in the paper.\n",
    "\n",
    "The sentences were created by using the Spacy transformer library to split the text of papers into sentences."
   ]
  },
  {
   "cell_type": "code",
   "execution_count": 25,
   "metadata": {},
   "outputs": [
    {
     "data": {
      "text/plain": [
       "Hamilton    51\n",
       "Madison     15\n",
       "dispt       11\n",
       "Jay          5\n",
       "HM           3\n",
       "Name: target, dtype: int64"
      ]
     },
     "execution_count": 25,
     "metadata": {},
     "output_type": "execute_result"
    }
   ],
   "source": [
    "# drop the duplicates and keep target and paper_id\n",
    "authorship = corpus.drop_duplicates(subset=['paper_id', 'target'])\n",
    "authorship.target.value_counts()"
   ]
  },
  {
   "cell_type": "markdown",
   "metadata": {},
   "source": [
    "### Dataset creation\n",
    "\n",
    "Your task is to predict the author of a paper using the text of the paper. You will use a Recurrent Neural Network (RNN) to predict the author of a paper. You will use the Federalist Papers dataset to train and evaluate your model."
   ]
  },
  {
   "cell_type": "code",
   "execution_count": 26,
   "metadata": {},
   "outputs": [],
   "source": [
    "# YOUR CODE HERE - CREATE A DATASET FOR THE CLASSIFICATION TASK OF AUTHORSHIP ATTRIBUTION\n",
    "corpus = pd.read_pickle('fp_corpus.pkl')\n",
    "\n",
    "# disputed author dataset \n",
    "disputed = authorship[authorship['target'] == 'dispt']\n",
    "\n",
    "# non-disputed authors\n",
    "non_disputed = authorship[authorship['target'] != 'dispt']"
   ]
  },
  {
   "cell_type": "markdown",
   "metadata": {},
   "source": [
    "### Plot the distribution of the number of papers written by each author."
   ]
  },
  {
   "cell_type": "code",
   "execution_count": 54,
   "metadata": {},
   "outputs": [
    {
     "data": {
      "image/png": "[encoded data removed]",
      "text/plain": [
       "<Figure size 576x432 with 1 Axes>"
      ]
     },
     "metadata": {
      "needs_background": "light"
     },
     "output_type": "display_data"
    }
   ],
   "source": [
    "# YOUR CODE HERE - Visualize the distribution of the sentence lengths (what is the quartile distribution of the sentence lengths?)\n",
    "# YOUR CODE HERE - Visualize the distribution of the sentence lengths (what is the quartile distribution of the sentence lengths?)\n",
    "import matplotlib.pyplot as plt\n",
    "\n",
    "# Create a boxplot\n",
    "plt.figure(figsize=(8, 6))  # Set the figure size\n",
    "non_disputed.boxplot(column='sentence_length')\n",
    "\n",
    "# Add title and labels\n",
    "plt.title('Boxplot of Sentence Length in Non-Disputed Data')\n",
    "plt.xlabel('Non-Disputed')\n",
    "plt.ylabel('Sentence Length')\n",
    "\n",
    "# Show the plot\n",
    "plt.show()\n"
   ]
  },
  {
   "cell_type": "markdown",
   "metadata": {},
   "source": [
    "### Plot the distribution of sentence lengths for each author."
   ]
  },
  {
   "cell_type": "code",
   "execution_count": 55,
   "metadata": {},
   "outputs": [
    {
     "data": {
      "image/png": "[encoded data removed]",
      "text/plain": [
       "<Figure size 720x432 with 1 Axes>"
      ]
     },
     "metadata": {},
     "output_type": "display_data"
    }
   ],
   "source": [
    "# YOUR CODE HERE - Visualize the distribution of sentence lengths according to the authorship\n",
    "# YOUR CODE HERE - Visualize the distribution of sentence lengths according to the authorship\n",
    "import seaborn as sns\n",
    "import matplotlib.pyplot as plt\n",
    "\n",
    "# Assuming 'non_disputed' is your pandas DataFrame\n",
    "\n",
    "# Set the style of the seaborn plots\n",
    "sns.set(style=\"whitegrid\")\n",
    "\n",
    "# Create separate boxplots for each target variable\n",
    "plt.figure(figsize=(10, 6))\n",
    "sns.boxplot(x='target', y='sentence_length', data=non_disputed, width=0.3, showfliers=True)\n",
    "plt.title('Boxplot of Sentence Length by Target Variable')\n",
    "plt.xlabel('Target Variable')\n",
    "plt.ylabel('Sentence Length')\n",
    "plt.xticks(rotation=45)  # Rotate x-axis labels for better visibility\n",
    "plt.tight_layout()  # Adjust layout to prevent clipping of labels\n",
    "plt.show()\n"
   ]
  },
  {
   "cell_type": "markdown",
   "metadata": {},
   "source": [
    "### Prepare dataset for training\n",
    "\n",
    "Prepare a training, validation, and test dataset. What is your X and y? What is the size of your training, validation, and test dataset?"
   ]
  },
  {
   "cell_type": "code",
   "execution_count": 29,
   "metadata": {},
   "outputs": [
    {
     "name": "stdout",
     "output_type": "stream",
     "text": [
      "Training samples: 4887\n",
      "Validation samples: 1222\n"
     ]
    }
   ],
   "source": [
    "from sklearn.model_selection import train_test_split\n",
    "\n",
    "X_train, x_val, y_train, y_val = train_test_split(\n",
    "    corpus['text'], corpus['target'], test_size=0.2, random_state=404)\n",
    "print(f'Training samples: {len(X_train)}')\n",
    "print(f'Validation samples: {len(x_val)}')"
   ]
  },
  {
   "cell_type": "markdown",
   "metadata": {},
   "source": [
    "#### Visualize some random samples"
   ]
  },
  {
   "cell_type": "code",
   "execution_count": 30,
   "metadata": {},
   "outputs": [
    {
     "name": "stdout",
     "output_type": "stream",
     "text": [
      "Random sentence: The Provision For The Support of the Executive, and the Veto Power From the New York Packet Friday, March 21, 1788. Author: Alexander Hamilton To the People of the State of New York: THE third ingredient towards constituting the vigor of the executive authority, is an adequate provision for its support. It is evident that, without proper attention to this article, the separation of the executive from the legislative department would be merely nominal and nugatory. The legislature, with a discretionary power over the salary and emoluments of the Chief Magistrate, could render him as obsequious to their will as they might think proper to make him. They might, in most cases, either reduce him by famine, or tempt him by largesses, to surrender at discretion his judgment to their inclinations. These expressions, taken in all the latitude of the terms, would no doubt convey more than is intended. There are men who could neither be distressed nor won into a sacrifice of their duty; but this stern virtue is the growth of few soils; and in the main it will be found that a power over a man's support is a power over his will. If it were necessary to confirm so plain a truth by facts, examples would not be wanting, even in this country, of the intimidation or seduction of the Executive by the terrors or allurements of the pecuniary arrangements of the legislative body. It is not easy, therefore, to commend too highly the judicious attention which has been paid to this subject in the proposed Constitution. It is there provided that \"The President of the United States shall, at stated times, receive for his services a compensation WHICH SHALL NEITHER BE INCREASED NOR DIMINISHED DURING THE PERIOD FOR WHICH HE SHALL HAVE BEEN ELECTED; and he SHALL NOT RECEIVE WITHIN THAT PERIOD ANY OTHER EMOLUMENT from the United States, or any of them.\" It is impossible to imagine any provision which would have been more eligible than this. The legislature, on the appointment of a President, is once for all to declare what shall be the compensation for his services during the time for which he shall have been elected. This done, they will have no power to alter it, either by increase or diminution, till a new period of service by a new election commences. They can neither weaken his fortitude by operating on his necessities, nor corrupt his integrity by appealing to his avarice. Neither the Union, nor any of its members, will be at liberty to give, nor will he be at liberty to receive, any other emolument than that which may have been determined by the first act. He can, of course, have no pecuniary inducement to renounce or desert the independence intended for him by the Constitution. The last of the requisites to energy, which have been enumerated, are competent powers. Let us proceed to consider those which are proposed to be vested in the President of the United States. The first thing that offers itself to our observation, is the qualified negative of the President upon the acts or resolutions of the two houses of the legislature; or, in other words, his power of returning all bills with objections, to have the effect of preventing their becoming laws, unless they should afterwards be ratified by two thirds of each of the component members of the legislative body. The propensity of the legislative department to intrude upon the rights, and to absorb the powers, of the other departments, has been already suggested and repeated; the insufficiency of a mere parchment delineation of the boundaries of each, has also been remarked upon; and the necessity of furnishing each with constitutional arms for its own defense, has been inferred and proved. From these clear and indubitable principles results the propriety of a negative, either absolute or qualified, in the Executive, upon the acts of the legislative branches. Without the one or the other, the former would be absolutely unable to defend himself against the depredations of the latter. He might gradually be stripped of his authorities by successive resolutions, or annihilated by a single vote. And in the one mode or the other, the legislative and executive powers might speedily come to be blended in the same hands. If even no propensity had ever discovered itself in the legislative body to invade the rights of the Executive, the rules of just reasoning and theoretic propriety would of themselves teach us, that the one ought not to be left to the mercy of the other, but ought to possess a constitutional and effectual power of self defense. But the power in question has a further use. It not only serves as a shield to the Executive, but it furnishes an additional security against the enaction of improper laws. It establishes a salutary check upon the legislative body, calculated to guard the community against the effects of faction, precipitancy, or of any impulse unfriendly to the public good, which may happen to influence a majority of that body. The propriety of a negative has, upon some occasions, been combated by an observation, that it was not to be presumed a single man would possess more virtue and wisdom than a number of men; and that unless this presumption should be entertained, it would be improper to give the executive magistrate any species of control over the legislative body. But this observation, when examined, will appear rather specious than solid. The propriety of the thing does not turn upon the supposition of superior wisdom or virtue in the Executive, but upon the supposition that the legislature will not be infallible; that the love of power may sometimes betray it into a disposition to encroach upon the rights of other members of the government; that a spirit of faction may sometimes pervert its deliberations; that impressions of the moment may sometimes hurry it into measures which itself, on maturer reflection, would condemn. The primary inducement to conferring the power in question upon the Executive is, to enable him to defend himself; the secondary one is to increase the chances in favor of the community against the passing of bad laws, through haste, inadvertence, or design. The oftener the measure is brought under examination, the greater the diversity in the situations of those who are to examine it, the less must be the danger of those errors which flow from want of due deliberation, or of those missteps which proceed from the contagion of some common passion or interest. It is far less probable, that culpable views of any kind should infect all the parts of the government at the same moment and in relation to the same object, than that they should by turns govern and mislead every one of them. It may perhaps be said that the power of preventing bad laws includes that of preventing good ones; and may be used to the one purpose as well as to the other. But this objection will have little weight with those who can properly estimate the mischiefs of that inconstancy and mutability in the laws, which form the greatest blemish in the character and genius of our governments. They will consider every institution calculated to restrain the excess of law-making, and to keep things in the same state in which they happen to be at any given period, as much more likely to do good than harm; because it is favorable to greater stability in the system of legislation. The injury which may possibly be done by defeating a few good laws, will be amply compensated by the advantage of preventing a number of bad ones. Nor is this all. The superior weight and influence of the legislative body in a free government, and the hazard to the Executive in a trial of strength with that body, afford a satisfactory security that the negative would generally be employed with great caution; and there would oftener be room for a charge of timidity than of rashness in the exercise of it. A king of Great Britain, with all his train of sovereign attributes, and with all the influence he draws from a thousand sources, would, at this day, hesitate to put a negative upon the joint resolutions of the two houses of Parliament. He would not fail to exert the utmost resources of that influence to strangle a measure disagreeable to him, in its progress to the throne, to avoid being reduced to the dilemma of permitting it to take effect, or of risking the displeasure of the nation by an opposition to the sense of the legislative body. Nor is it probable, that he would ultimately venture to exert his prerogatives, but in a case of manifest propriety, or extreme necessity. All well-informed men in that kingdom will accede to the justness of this remark. A very considerable period has elapsed since the negative of the crown has been exercised. If a magistrate so powerful and so well fortified as a British monarch, would have scruples about the exercise of the power under consideration, how much greater caution may be reasonably expected in a President of the United States, clothed for the short period of four years with the executive authority of a government wholly and purely republican? It is evident that there would be greater danger of his not using his power when necessary, than of his using it too often, or too much. An argument, indeed, against its expediency, has been drawn from this very source. It has been represented, on this account, as a power odious in appearance, useless in practice. But it will not follow, that because it might be rarely exercised, it would never be exercised. In the case for which it is chiefly designed, that of an immediate attack upon the constitutional rights of the Executive, or in a case in which the public good was evidently and palpably sacrificed, a man of tolerable firmness would avail himself of his constitutional means of defense, and would listen to the admonitions of duty and responsibility. In the former supposition, his fortitude would be stimulated by his immediate interest in the power of his office; in the latter, by the probability of the sanction of his constituents, who, though they would naturally incline to the legislative body in a doubtful case, would hardly suffer their partiality to delude them in a very plain case. I speak now with an eye to a magistrate possessing only a common share of firmness. There are men who, under any circumstances, will have the courage to do their duty at every hazard. But the convention have pursued a mean in this business, which will both facilitate the exercise of the power vested in this respect in the executive magistrate, and make its efficacy to depend on the sense of a considerable part of the legislative body. Instead of an absolute negative, it is proposed to give the Executive the qualified negative already described. This is a power which would be much more readily exercised than the other. A man who might be afraid to defeat a law by his single VETO, might not scruple to return it for reconsideration; subject to being finally rejected only in the event of more than one third of each house concurring in the sufficiency of his objections. He would be encouraged by the reflection, that if his opposition should prevail, it would embark in it a very respectable proportion of the legislative body, whose influence would be united with his in supporting the propriety of his conduct in the public opinion. A direct and categorical negative has something in the appearance of it more harsh, and more apt to irritate, than the mere suggestion of argumentative objections to be approved or disapproved by those to whom they are addressed. In proportion as it would be less apt to offend, it would be more apt to be exercised; and for this very reason, it may in practice be found more effectual. It is to be hoped that it will not often happen that improper views will govern so large a proportion as two thirds of both branches of the legislature at the same time; and this, too, in spite of the counterposing weight of the Executive. It is at any rate far less probable that this should be the case, than that such views should taint the resolutions and conduct of a bare majority. A power of this nature in the Executive, will often have a silent and unperceived, though forcible, operation. When men, engaged in unjustifiable pursuits, are aware that obstructions may come from a quarter which they cannot control, they will often be restrained by the bare apprehension of opposition, from doing what they would with eagerness rush into, if no such external impediments were to be feared. This qualified negative, as has been elsewhere remarked, is in this State vested in a council, consisting of the governor, with the chancellor and judges of the Supreme Court, or any two of them. It has been freely employed upon a variety of occasions, and frequently with success. And its utility has become so apparent, that persons who, in compiling the Constitution, were violent opposers of it, have from experience become its declared admirers. [1] I have in another place remarked, that the convention, in the formation of this part of their plan, had departed from the model of the constitution of this State, in favor of that of Massachusetts. Two strong reasons may be imagined for this preference. One is that the judges, who are to be the interpreters of the law, might receive an improper bias, from having given a previous opinion in their revisionary capacities; the other is that by being often associated with the Executive, they might be induced to embark too far in the political views of that magistrate, and thus a dangerous combination might by degrees be cemented between the executive and judiciary departments. It is impossible to keep the judges too distinct from every other avocation than that of expounding the laws. It is peculiarly dangerous to place them in a situation to be either corrupted or influenced by the Executive. PUBLIUS. 1. Mr. Abraham Yates, a warm opponent of the plan of the convention is of this number.\n",
      "Author: Hamilton\n"
     ]
    }
   ],
   "source": [
    "import random\n",
    "\n",
    "# sample a random sentence from the training set\n",
    "random_idx = random.randint(0, len(X_train))\n",
    "print(f'Random sentence: {X_train.iloc[random_idx]}')\n",
    "print(f'Author: {y_train.iloc[random_idx]}')"
   ]
  },
  {
   "cell_type": "code",
   "execution_count": 49,
   "metadata": {},
   "outputs": [
    {
     "data": {
      "image/png": "[encoded data removed]",
      "text/plain": [
       "<Figure size 720x576 with 1 Axes>"
      ]
     },
     "metadata": {
      "needs_background": "light"
     },
     "output_type": "display_data"
    }
   ],
   "source": [
    "from sklearn.decomposition import PCA\n",
    "from sklearn.feature_extraction.text import TfidfVectorizer\n",
    "from mpl_toolkits.mplot3d import Axes3D\n",
    "import matplotlib.pyplot as plt\n",
    "import pandas as pd\n",
    "\n",
    "# Use TF-IDF to vectorize the text data\n",
    "tfidf_vectorizer = TfidfVectorizer(max_features=1000)\n",
    "X_train_tfidf = tfidf_vectorizer.fit_transform(X_train)\n",
    "\n",
    "# Apply PCA to reduce the dimensionality to 3 components\n",
    "pca = PCA(n_components=3)\n",
    "X_train_pca = pca.fit_transform(X_train_tfidf.toarray())\n",
    "\n",
    "# Create a DataFrame for the PCA-transformed data\n",
    "df_pca = pd.DataFrame(X_train_pca, columns=['PC1', 'PC2', 'PC3'])\n",
    "\n",
    "# Add the author labels to the DataFrame\n",
    "df_pca['Author'] = y_train.values\n",
    "\n",
    "# Plot the data in 3D\n",
    "fig = plt.figure(figsize=(10, 8))\n",
    "ax = fig.add_subplot(111, projection='3d')\n",
    "\n",
    "# Scatter plot for each author\n",
    "authors = df_pca['Author'].unique()\n",
    "colors = ['r', 'g', 'b', 'c', 'm', 'y', 'k']\n",
    "for author, color in zip(authors, colors):\n",
    "    df_author = df_pca[df_pca['Author'] == author]\n",
    "    ax.scatter(df_author['PC1'], df_author['PC2'], df_author['PC3'], c=color, label=author)\n",
    "\n",
    "ax.set_xlabel('PC1')\n",
    "ax.set_ylabel('PC2')\n",
    "ax.set_zlabel('PC3')\n",
    "ax.set_title('PCA Visualization of Text Data in 3D')\n",
    "ax.legend()\n",
    "plt.show()\n"
   ]
  },
  {
   "cell_type": "markdown",
   "metadata": {},
   "source": [
    "#### Plot the distribution of training and validation samples\n",
    "\n",
    "Have you split the dataset in a stratified manner? Explain why it is important to split the dataset in a stratified manner. If you have not, explain why you did not split the dataset in a stratified manner. See the documentation for [train_test_split](https://scikit-learn.org/stable/modules/generated/sklearn.model_selection.train_test_split.html) for more information."
   ]
  },
  {
   "cell_type": "markdown",
   "metadata": {},
   "source": [
    "#### Plot the datasets"
   ]
  },
  {
   "cell_type": "code",
   "execution_count": 31,
   "metadata": {},
   "outputs": [
    {
     "name": "stderr",
     "output_type": "stream",
     "text": [
      "c:\\Users\\Yera\\anaconda3\\lib\\site-packages\\seaborn\\_decorators.py:36: FutureWarning: Pass the following variable as a keyword arg: x. From version 0.12, the only valid positional argument will be `data`, and passing other arguments without an explicit keyword will result in an error or misinterpretation.\n",
      "  warnings.warn(\n",
      "c:\\Users\\Yera\\anaconda3\\lib\\site-packages\\seaborn\\_decorators.py:36: FutureWarning: Pass the following variable as a keyword arg: x. From version 0.12, the only valid positional argument will be `data`, and passing other arguments without an explicit keyword will result in an error or misinterpretation.\n",
      "  warnings.warn(\n"
     ]
    },
    {
     "data": {
      "image/png": "[encoded data removed]",
      "text/plain": [
       "<Figure size 1080x432 with 2 Axes>"
      ]
     },
     "metadata": {
      "needs_background": "light"
     },
     "output_type": "display_data"
    }
   ],
   "source": [
    "# plot the distribution of the target classes in the training and validation set on a countplot\n",
    "fig, ax = plt.subplots(1, 2, figsize=(15, 6))\n",
    "# first plot is the training set\n",
    "sns.countplot(y_train, ax=ax[0])\n",
    "ax[0].set_title('Training Set Distribution')\n",
    "# second plot is the validation set\n",
    "sns.countplot(y_val, ax=ax[1])\n",
    "ax[1].set_title('Validation Set Distribution')\n",
    "plt.show()"
   ]
  },
  {
   "cell_type": "markdown",
   "metadata": {},
   "source": [
    "#### Convert the target labels to one hot encodings"
   ]
  },
  {
   "cell_type": "code",
   "execution_count": 36,
   "metadata": {},
   "outputs": [
    {
     "name": "stdout",
     "output_type": "stream",
     "text": [
      "One hot encoded training labels shape: (4887, 5)\n",
      "One hot encoded validation labels shape: (1222, 5)\n"
     ]
    }
   ],
   "source": [
    "from sklearn.preprocessing import OneHotEncoder\n",
    "\n",
    "ohe = OneHotEncoder()\n",
    "\n",
    "y_train_ohe = ohe.fit_transform(y_train.values.reshape(-1, 1))\n",
    "y_val_ohe = ohe.transform(y_val.values.reshape(-1, 1))\n",
    "\n",
    "print(f'One hot encoded training labels shape: {y_train_ohe.shape}')\n",
    "print(f'One hot encoded validation labels shape: {y_val_ohe.shape}')"
   ]
  },
  {
   "cell_type": "code",
   "execution_count": 37,
   "metadata": {},
   "outputs": [
    {
     "data": {
      "text/plain": [
       "(<5x5 sparse matrix of type '<class 'numpy.float64'>'\n",
       " \twith 5 stored elements in Compressed Sparse Row format>,\n",
       " 72     Madison\n",
       " 78     Madison\n",
       " 45    Hamilton\n",
       " 34    Hamilton\n",
       " 44    Hamilton\n",
       " Name: target, dtype: object)"
      ]
     },
     "execution_count": 37,
     "metadata": {},
     "output_type": "execute_result"
    }
   ],
   "source": [
    "y_train_ohe[:5], y_train[:5]"
   ]
  },
  {
   "cell_type": "markdown",
   "metadata": {},
   "source": [
    "#### Encode the labels"
   ]
  },
  {
   "cell_type": "code",
   "execution_count": 38,
   "metadata": {},
   "outputs": [
    {
     "name": "stdout",
     "output_type": "stream",
     "text": [
      "Label encoded training labels shape: (4887,)\n",
      "Label encoded validation labels shape: (1222,)\n"
     ]
    }
   ],
   "source": [
    "from sklearn.preprocessing import LabelEncoder\n",
    "\n",
    "label_encoder = LabelEncoder()\n",
    "y_train_le = label_encoder.fit_transform(y_train)\n",
    "y_val_le = label_encoder.transform(y_val)\n",
    "\n",
    "print(f'Label encoded training labels shape: {y_train_le.shape}')\n",
    "print(f'Label encoded validation labels shape: {y_val_le.shape}')"
   ]
  },
  {
   "cell_type": "code",
   "execution_count": 39,
   "metadata": {},
   "outputs": [
    {
     "name": "stdout",
     "output_type": "stream",
     "text": [
      "Original label: Madison - Label encoded: 3\n",
      "Original label: Madison - Label encoded: 3\n",
      "Original label: Hamilton - Label encoded: 1\n",
      "Original label: Hamilton - Label encoded: 1\n",
      "Original label: Hamilton - Label encoded: 1\n"
     ]
    }
   ],
   "source": [
    "for i in range(5):\n",
    "    print(f'Original label: {y_train.iloc[i]} - Label encoded: {y_train_le[i]}')"
   ]
  },
  {
   "cell_type": "code",
   "execution_count": 40,
   "metadata": {},
   "outputs": [
    {
     "data": {
      "text/plain": [
       "(5, array(['HM', 'Hamilton', 'Jay', 'Madison', 'dispt'], dtype=object))"
      ]
     },
     "execution_count": 40,
     "metadata": {},
     "output_type": "execute_result"
    }
   ],
   "source": [
    "num_classes = len(label_encoder.classes_)\n",
    "class_names = label_encoder.classes_\n",
    "num_classes, class_names"
   ]
  },
  {
   "cell_type": "markdown",
   "metadata": {},
   "source": [
    "## Train a TF-IDF model"
   ]
  },
  {
   "cell_type": "code",
   "execution_count": 41,
   "metadata": {},
   "outputs": [],
   "source": [
    "from sklearn.feature_extraction.text import TfidfVectorizer\n",
    "from sklearn.pipeline import Pipeline\n",
    "from sklearn.svm import SVC"
   ]
  },
  {
   "cell_type": "code",
   "execution_count": 42,
   "metadata": {},
   "outputs": [
    {
     "data": {
      "text/plain": [
       "Pipeline(steps=[('tfidf', TfidfVectorizer()),\n",
       "                ('clf', SVC(kernel='linear', random_state=42))])"
      ]
     },
     "execution_count": 42,
     "metadata": {},
     "output_type": "execute_result"
    }
   ],
   "source": [
    "text_clf = Pipeline([\n",
    "    ('tfidf', TfidfVectorizer()),\n",
    "    ('clf', SVC(kernel='linear', C=1.0, random_state=42))\n",
    "])\n",
    "\n",
    "# fit the model\n",
    "text_clf.fit(X_train, y_train_le)"
   ]
  },
  {
   "cell_type": "code",
   "execution_count": 43,
   "metadata": {},
   "outputs": [
    {
     "data": {
      "text/plain": [
       "1.0"
      ]
     },
     "execution_count": 43,
     "metadata": {},
     "output_type": "execute_result"
    }
   ],
   "source": [
    "text_clf.score(x_val, y_val_le)"
   ]
  },
  {
   "cell_type": "markdown",
   "metadata": {},
   "source": [
    "### Explain the TF-IDF model\n",
    "\n",
    "- What is the TF-IDF model?\n",
    "- How does the TF-IDF model work?\n",
    "- What are the hyperparameters of the TF-IDF model?\n",
    "- How do you select the hyperparameters of the TF-IDF model?\n",
    "- Why is it helpful to establish a baseline model?"
   ]
  },
  {
   "cell_type": "markdown",
   "metadata": {},
   "source": []
  }
 ],
 "metadata": {
  "kernelspec": {
   "display_name": "fed_papers",
   "language": "python",
   "name": "python3"
  },
  "language_info": {
   "codemirror_mode": {
    "name": "ipython",
    "version": 3
   },
   "file_extension": ".py",
   "mimetype": "text/x-python",
   "name": "python",
   "nbconvert_exporter": "python",
   "pygments_lexer": "ipython3",
   "version": "3.9.12"
  }
 },
 "nbformat": 4,
 "nbformat_minor": 2
}
