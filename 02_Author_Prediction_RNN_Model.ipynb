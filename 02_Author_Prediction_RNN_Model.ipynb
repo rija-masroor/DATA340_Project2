{
 "cells": [
  {
   "cell_type": "markdown",
   "metadata": {},
   "source": [
    "# Author prediction using RNNs\n",
    "\n",
    "In this notebook, you will prepare a dataset to predict authorship of the Federalist Papers using Recurrent Neural Networks (RNNs).\n",
    "\n",
    "## Federalist Papers\n",
    "\n",
    "The Federalist Papers are a collection of 85 articles and essays written by Alexander Hamilton, James Madison, and John Jay under the pseudonym \"Publius\". They were published in 1787 and 1788 to promote the ratification of the United States Constitution. The authors of the Federalist Papers wanted to remain anonymous, so they used the pseudonym \"Publius\". The articles were published in two newspapers, the New York Packet and the Independent Journal. The Federalist Papers are considered important works of American political thought and are still widely read today.\n",
    "\n",
    "## Additional information\n",
    "\n",
    "- [Federalist Papers](https://en.wikipedia.org/wiki/The_Federalist_Papers)\n",
    "- [Federalist Papers dataset](https://www.kaggle.com/datasets/tobyanderson/federalist-papers)\n",
    "- [LOC Research Guide](https://guides.loc.gov/federalist-papers/full-text)\n",
    "\n",
    "## Objectives (a)\n",
    "\n",
    "- Task 1: Design your dataset to predict the author of a text using RNNs.\n",
    "- Task 2: Explain the methodology of your dataset creation.\n",
    "- Task 3: Establish a baseline model using Machine Learning algorithms (SVM, Random Forest, etc.).\n",
    "  \n",
    "## Objectives (b)\n",
    "\n",
    "- Task 4: Train a RNN model to predict the author of a text.\n",
    "- Task 5: Evaluate the performance of your model.\n",
    "- Task 6: Explain your model architecture, hyperparameters, and the results of your model."
   ]
  },
  {
   "cell_type": "markdown",
   "metadata": {},
   "source": [
    "## Task 1: Dataset Creation"
   ]
  },
  {
   "cell_type": "markdown",
   "metadata": {},
   "source": [
    "### Dataset description\n",
    "\n",
    "Use the below code to scrape the Library of Congress research guide for the Federalist Papers. You need to pip install the following for the below code to work:\n",
    "\n",
    "- `pip install beautifulsoup4`\n",
    "- `pip install requests`\n",
    "- `pip install pandas`"
   ]
  },
  {
   "cell_type": "code",
   "execution_count": 131,
   "metadata": {},
   "outputs": [],
   "source": [
    "import pandas as pd\n",
    "from io import StringIO\n",
    "from bs4 import BeautifulSoup as bs\n",
    "import requests\n",
    "\n",
    "url = 'https://guides.loc.gov/federalist-papers/full-text'\n",
    "\n",
    "html = requests.get(url).text\n",
    "soup = bs(html, 'html.parser')\n",
    "\n",
    "# convert the html table to a pandas dataframe\n",
    "table = soup.find('table')\n",
    "\n",
    "# List of Federalist Papers\n",
    "meta_df = pd.read_html(StringIO(str(table)), parse_dates=True)[0]"
   ]
  },
  {
   "cell_type": "markdown",
   "metadata": {},
   "source": [
    "### Dataset datatypes"
   ]
  },
  {
   "cell_type": "code",
   "execution_count": 132,
   "metadata": {},
   "outputs": [
    {
     "name": "stdout",
     "output_type": "stream",
     "text": [
      "<class 'pandas.core.frame.DataFrame'>\n",
      "RangeIndex: 85 entries, 0 to 84\n",
      "Data columns (total 5 columns):\n",
      " #   Column       Non-Null Count  Dtype  \n",
      "---  ------       --------------  -----  \n",
      " 0   No.          85 non-null     float64\n",
      " 1   Title        85 non-null     object \n",
      " 2   Author       85 non-null     object \n",
      " 3   Publication  85 non-null     object \n",
      " 4   Date         85 non-null     object \n",
      "dtypes: float64(1), object(4)\n",
      "memory usage: 3.4+ KB\n"
     ]
    }
   ],
   "source": [
    "meta_df.info()"
   ]
  },
  {
   "cell_type": "code",
   "execution_count": 133,
   "metadata": {},
   "outputs": [
    {
     "data": {
      "text/html": [
       "<div>\n",
       "<style scoped>\n",
       "    .dataframe tbody tr th:only-of-type {\n",
       "        vertical-align: middle;\n",
       "    }\n",
       "\n",
       "    .dataframe tbody tr th {\n",
       "        vertical-align: top;\n",
       "    }\n",
       "\n",
       "    .dataframe thead th {\n",
       "        text-align: right;\n",
       "    }\n",
       "</style>\n",
       "<table border=\"1\" class=\"dataframe\">\n",
       "  <thead>\n",
       "    <tr style=\"text-align: right;\">\n",
       "      <th></th>\n",
       "      <th>No.</th>\n",
       "      <th>Title</th>\n",
       "      <th>Author</th>\n",
       "      <th>Publication</th>\n",
       "      <th>Date</th>\n",
       "    </tr>\n",
       "  </thead>\n",
       "  <tbody>\n",
       "    <tr>\n",
       "      <th>0</th>\n",
       "      <td>1.0</td>\n",
       "      <td>General Introduction</td>\n",
       "      <td>Hamilton</td>\n",
       "      <td>For the Independent Journal</td>\n",
       "      <td>--</td>\n",
       "    </tr>\n",
       "    <tr>\n",
       "      <th>1</th>\n",
       "      <td>2.0</td>\n",
       "      <td>Concerning Dangers from Foreign Force and Infl...</td>\n",
       "      <td>Jay</td>\n",
       "      <td>For the Independent Journal</td>\n",
       "      <td>--</td>\n",
       "    </tr>\n",
       "    <tr>\n",
       "      <th>2</th>\n",
       "      <td>3.0</td>\n",
       "      <td>The Same Subject Continued: Concerning Dangers...</td>\n",
       "      <td>Jay</td>\n",
       "      <td>For the Independent Journal</td>\n",
       "      <td>--</td>\n",
       "    </tr>\n",
       "    <tr>\n",
       "      <th>3</th>\n",
       "      <td>4.0</td>\n",
       "      <td>The Same Subject Continued: Concerning Dangers...</td>\n",
       "      <td>Jay</td>\n",
       "      <td>For the Independent Journal</td>\n",
       "      <td>--</td>\n",
       "    </tr>\n",
       "    <tr>\n",
       "      <th>4</th>\n",
       "      <td>5.0</td>\n",
       "      <td>The Same Subject Continued: Concerning Dangers...</td>\n",
       "      <td>Jay</td>\n",
       "      <td>For the Independent Journal</td>\n",
       "      <td>--</td>\n",
       "    </tr>\n",
       "  </tbody>\n",
       "</table>\n",
       "</div>"
      ],
      "text/plain": [
       "   No.                                              Title    Author  \\\n",
       "0  1.0                               General Introduction  Hamilton   \n",
       "1  2.0  Concerning Dangers from Foreign Force and Infl...       Jay   \n",
       "2  3.0  The Same Subject Continued: Concerning Dangers...       Jay   \n",
       "3  4.0  The Same Subject Continued: Concerning Dangers...       Jay   \n",
       "4  5.0  The Same Subject Continued: Concerning Dangers...       Jay   \n",
       "\n",
       "                   Publication Date  \n",
       "0  For the Independent Journal   --  \n",
       "1  For the Independent Journal   --  \n",
       "2  For the Independent Journal   --  \n",
       "3  For the Independent Journal   --  \n",
       "4  For the Independent Journal   --  "
      ]
     },
     "execution_count": 133,
     "metadata": {},
     "output_type": "execute_result"
    }
   ],
   "source": [
    "meta_df.head()"
   ]
  },
  {
   "cell_type": "markdown",
   "metadata": {},
   "source": [
    "### Autorship counts\n",
    "\n",
    "Plot the count the number of papers written by each author. We want to create a machine learning dataset that consists of a train, validation, and test set. We will use the train set to train the model, the validation set to tune the hyperparameters, and the test set to evaluate the model."
   ]
  },
  {
   "cell_type": "code",
   "execution_count": 134,
   "metadata": {},
   "outputs": [
    {
     "data": {
      "image/png": "[encoded data removed]",
      "text/plain": [
       "<Figure size 720x432 with 1 Axes>"
      ]
     },
     "metadata": {},
     "output_type": "display_data"
    }
   ],
   "source": [
    "import matplotlib.pyplot as plt\n",
    "import seaborn as sns\n",
    "\n",
    "# plot the number of papers written by each author\n",
    "plt.figure(figsize=(10, 6))\n",
    "sns.countplot(y='Author', data=meta_df)\n",
    "plt.title('Number of Papers Written by Each Author')\n",
    "plt.show()"
   ]
  },
  {
   "cell_type": "markdown",
   "metadata": {},
   "source": [
    "Based on the data, answer the following questions:\n",
    "\n",
    "- How many papers were written by each author?\n",
    "- How should you construct your dataset? Explain your reasoning."
   ]
  },
  {
   "cell_type": "markdown",
   "metadata": {},
   "source": [
    "#### How many papers were written by each author?\n",
    "Hamilton wrote 51, Jay wrote 5 and Madison wrote 15. There are 3 papers that are written together by Hamilton and Madison. There are 11 disputed papers that seem to be written by Hamilton, Madison, or by both of them. \n",
    "\n",
    "#### How should you construct your dataset? Explain your reasoning.\n",
    "To analyze and determine the authorship of the disputed papers, we will first preprocess the data by removing papers that are written by both Hamilton and Madison because that can be confusing as well as those that are disputed. Also the disputed papers are only contested between Hamilton and Madison, the papers written by Jay will also be dropped. "
   ]
  },
  {
   "cell_type": "markdown",
   "metadata": {},
   "source": [
    "### Contested authorship"
   ]
  },
  {
   "cell_type": "code",
   "execution_count": 135,
   "metadata": {},
   "outputs": [
    {
     "name": "stdout",
     "output_type": "stream",
     "text": [
      "Contested authorship of papers: [49. 50. 51. 52. 53. 54. 55. 56. 57. 62. 63.]\n",
      "Total number of disputed papers: 11\n"
     ]
    }
   ],
   "source": [
    "# disputed papers\n",
    "disputed_papers = meta_df[meta_df['Author'] == 'Hamilton or Madison']\n",
    "contested_authorship = disputed_papers['No.'].values\n",
    "print(f'Contested authorship of papers: {contested_authorship}')\n",
    "print(f'Total number of disputed papers: {len(disputed_papers)}')"
   ]
  },
  {
   "cell_type": "markdown",
   "metadata": {},
   "source": [
    "### Load the Federalist Papers corpus\n",
    "\n",
    "The following code loads the Federalist Papers corpus. The papers have been preprocessed to aid your analysis of the authorship of the papers."
   ]
  },
  {
   "cell_type": "code",
   "execution_count": 136,
   "metadata": {},
   "outputs": [
    {
     "data": {
      "text/html": [
       "<div>\n",
       "<style scoped>\n",
       "    .dataframe tbody tr th:only-of-type {\n",
       "        vertical-align: middle;\n",
       "    }\n",
       "\n",
       "    .dataframe tbody tr th {\n",
       "        vertical-align: top;\n",
       "    }\n",
       "\n",
       "    .dataframe thead th {\n",
       "        text-align: right;\n",
       "    }\n",
       "</style>\n",
       "<table border=\"1\" class=\"dataframe\">\n",
       "  <thead>\n",
       "    <tr style=\"text-align: right;\">\n",
       "      <th></th>\n",
       "      <th>text</th>\n",
       "      <th>paper_id</th>\n",
       "      <th>target</th>\n",
       "      <th>sentences</th>\n",
       "      <th>sentence_length</th>\n",
       "      <th>sentence_index</th>\n",
       "      <th>total_sentences</th>\n",
       "    </tr>\n",
       "  </thead>\n",
       "  <tbody>\n",
       "    <tr>\n",
       "      <th>0</th>\n",
       "      <td>Method of Guarding Against the Encroachments o...</td>\n",
       "      <td>49</td>\n",
       "      <td>dispt</td>\n",
       "      <td>Method of Guarding Against the Encroachments o...</td>\n",
       "      <td>25</td>\n",
       "      <td>0</td>\n",
       "      <td>63</td>\n",
       "    </tr>\n",
       "    <tr>\n",
       "      <th>0</th>\n",
       "      <td>Method of Guarding Against the Encroachments o...</td>\n",
       "      <td>49</td>\n",
       "      <td>dispt</td>\n",
       "      <td>Tuesday, February 5, 1788.</td>\n",
       "      <td>4</td>\n",
       "      <td>1</td>\n",
       "      <td>63</td>\n",
       "    </tr>\n",
       "    <tr>\n",
       "      <th>0</th>\n",
       "      <td>Method of Guarding Against the Encroachments o...</td>\n",
       "      <td>49</td>\n",
       "      <td>dispt</td>\n",
       "      <td>Author: Alexander Hamilton or James Madison</td>\n",
       "      <td>6</td>\n",
       "      <td>2</td>\n",
       "      <td>63</td>\n",
       "    </tr>\n",
       "    <tr>\n",
       "      <th>0</th>\n",
       "      <td>Method of Guarding Against the Encroachments o...</td>\n",
       "      <td>49</td>\n",
       "      <td>dispt</td>\n",
       "      <td>To the People of the State of New York:</td>\n",
       "      <td>9</td>\n",
       "      <td>3</td>\n",
       "      <td>63</td>\n",
       "    </tr>\n",
       "    <tr>\n",
       "      <th>0</th>\n",
       "      <td>Method of Guarding Against the Encroachments o...</td>\n",
       "      <td>49</td>\n",
       "      <td>dispt</td>\n",
       "      <td>THE author of the \"Notes on the State of Virgi...</td>\n",
       "      <td>56</td>\n",
       "      <td>4</td>\n",
       "      <td>63</td>\n",
       "    </tr>\n",
       "    <tr>\n",
       "      <th>0</th>\n",
       "      <td>Method of Guarding Against the Encroachments o...</td>\n",
       "      <td>49</td>\n",
       "      <td>dispt</td>\n",
       "      <td>The plan, like every thing from the same pen, ...</td>\n",
       "      <td>50</td>\n",
       "      <td>5</td>\n",
       "      <td>63</td>\n",
       "    </tr>\n",
       "    <tr>\n",
       "      <th>0</th>\n",
       "      <td>Method of Guarding Against the Encroachments o...</td>\n",
       "      <td>49</td>\n",
       "      <td>dispt</td>\n",
       "      <td>One of the precautions which he proposes, and ...</td>\n",
       "      <td>52</td>\n",
       "      <td>6</td>\n",
       "      <td>63</td>\n",
       "    </tr>\n",
       "    <tr>\n",
       "      <th>0</th>\n",
       "      <td>Method of Guarding Against the Encroachments o...</td>\n",
       "      <td>49</td>\n",
       "      <td>dispt</td>\n",
       "      <td>His proposition is, \"that whenever any two of ...</td>\n",
       "      <td>50</td>\n",
       "      <td>7</td>\n",
       "      <td>63</td>\n",
       "    </tr>\n",
       "    <tr>\n",
       "      <th>0</th>\n",
       "      <td>Method of Guarding Against the Encroachments o...</td>\n",
       "      <td>49</td>\n",
       "      <td>dispt</td>\n",
       "      <td>\"As the people are the only legitimate fountai...</td>\n",
       "      <td>81</td>\n",
       "      <td>8</td>\n",
       "      <td>63</td>\n",
       "    </tr>\n",
       "    <tr>\n",
       "      <th>0</th>\n",
       "      <td>Method of Guarding Against the Encroachments o...</td>\n",
       "      <td>49</td>\n",
       "      <td>dispt</td>\n",
       "      <td>The several departments being perfectly co-ord...</td>\n",
       "      <td>79</td>\n",
       "      <td>9</td>\n",
       "      <td>63</td>\n",
       "    </tr>\n",
       "  </tbody>\n",
       "</table>\n",
       "</div>"
      ],
      "text/plain": [
       "                                                text paper_id target  \\\n",
       "0  Method of Guarding Against the Encroachments o...       49  dispt   \n",
       "0  Method of Guarding Against the Encroachments o...       49  dispt   \n",
       "0  Method of Guarding Against the Encroachments o...       49  dispt   \n",
       "0  Method of Guarding Against the Encroachments o...       49  dispt   \n",
       "0  Method of Guarding Against the Encroachments o...       49  dispt   \n",
       "0  Method of Guarding Against the Encroachments o...       49  dispt   \n",
       "0  Method of Guarding Against the Encroachments o...       49  dispt   \n",
       "0  Method of Guarding Against the Encroachments o...       49  dispt   \n",
       "0  Method of Guarding Against the Encroachments o...       49  dispt   \n",
       "0  Method of Guarding Against the Encroachments o...       49  dispt   \n",
       "\n",
       "                                           sentences  sentence_length  \\\n",
       "0  Method of Guarding Against the Encroachments o...               25   \n",
       "0                         Tuesday, February 5, 1788.                4   \n",
       "0        Author: Alexander Hamilton or James Madison                6   \n",
       "0            To the People of the State of New York:                9   \n",
       "0  THE author of the \"Notes on the State of Virgi...               56   \n",
       "0  The plan, like every thing from the same pen, ...               50   \n",
       "0  One of the precautions which he proposes, and ...               52   \n",
       "0  His proposition is, \"that whenever any two of ...               50   \n",
       "0  \"As the people are the only legitimate fountai...               81   \n",
       "0  The several departments being perfectly co-ord...               79   \n",
       "\n",
       "   sentence_index  total_sentences  \n",
       "0               0               63  \n",
       "0               1               63  \n",
       "0               2               63  \n",
       "0               3               63  \n",
       "0               4               63  \n",
       "0               5               63  \n",
       "0               6               63  \n",
       "0               7               63  \n",
       "0               8               63  \n",
       "0               9               63  "
      ]
     },
     "execution_count": 136,
     "metadata": {},
     "output_type": "execute_result"
    }
   ],
   "source": [
    "corpus = pd.read_pickle('fp_corpus.pkl')\n",
    "corpus.head(10)"
   ]
  },
  {
   "cell_type": "markdown",
   "metadata": {},
   "source": [
    "The above datasets contains the following columns:\n",
    "\n",
    "- `paper_id`: The ID of the paper. This corresponds to the number of the paper in the Federalist Papers collection.\n",
    "- `author`: The author of the paper. This can be one of three values: `Hamilton`, `Madison`, `Jay`, `dispt` (disputed), and `HM` (Hamilton and Madison).\n",
    "- `text`: The text of the paper.\n",
    "- `sentence_length`: The token count of the sentence, defined as the number of tokens by splitting the sentence by spaces.\n",
    "- `sentence_index`: The index of the sentence in the paper.\n",
    "- `total_sentences`: The total number of sentences in the paper.\n",
    "\n",
    "The sentences were created by using the Spacy transformer library to split the text of papers into sentences."
   ]
  },
  {
   "cell_type": "code",
   "execution_count": 137,
   "metadata": {},
   "outputs": [
    {
     "data": {
      "text/plain": [
       "Hamilton    51\n",
       "Madison     15\n",
       "dispt       11\n",
       "Jay          5\n",
       "HM           3\n",
       "Name: target, dtype: int64"
      ]
     },
     "execution_count": 137,
     "metadata": {},
     "output_type": "execute_result"
    }
   ],
   "source": [
    "# drop the duplicates and keep target and paper_id\n",
    "authorship = corpus.drop_duplicates(subset=['paper_id', 'target'])\n",
    "authorship.target.value_counts()"
   ]
  },
  {
   "cell_type": "code",
   "execution_count": 138,
   "metadata": {},
   "outputs": [
    {
     "name": "stdout",
     "output_type": "stream",
     "text": [
      "Original shape: (6109, 7), Filtered shape: (4881, 7)\n"
     ]
    }
   ],
   "source": [
    "import pandas as pd\n",
    "\n",
    "# Load the DataFrame from the pickle file\n",
    "corpus = pd.read_pickle('fp_corpus.pkl')\n",
    "\n",
    "# Drop rows where the 'target' column is 'HM', 'dispt', or 'Jay'\n",
    "corpus_filtered = corpus[~corpus['target'].isin(['HM', 'dispt', 'Jay'])]\n",
    "\n",
    "# Print the shape of the filtered DataFrame to check the number of rows removed\n",
    "print(f\"Original shape: {corpus.shape}, Filtered shape: {corpus_filtered.shape}\")\n",
    "\n",
    "# Optionally, you can reassign corpus_filtered to corpus if you want to keep only the filtered rows\n",
    "corpus = corpus_filtered\n"
   ]
  },
  {
   "cell_type": "code",
   "execution_count": 139,
   "metadata": {},
   "outputs": [
    {
     "name": "stdout",
     "output_type": "stream",
     "text": [
      "Number of sentences for each author:\n",
      "target\n",
      "Hamilton    3606\n",
      "Madison     1275\n",
      "Name: sentences, dtype: int64\n"
     ]
    }
   ],
   "source": [
    "# Group the filtered data by the 'target' column and count the number of sentences for each author\n",
    "author_counts = corpus_filtered.groupby('target')['sentences'].count()\n",
    "\n",
    "# Print the number of sentences for each author\n",
    "print(\"Number of sentences for each author:\")\n",
    "print(author_counts)\n"
   ]
  },
  {
   "cell_type": "code",
   "execution_count": 140,
   "metadata": {},
   "outputs": [
    {
     "name": "stdout",
     "output_type": "stream",
     "text": [
      "Number of sentences for each author after balancing:\n",
      "Madison     1275\n",
      "Hamilton    1258\n",
      "Name: target, dtype: int64\n"
     ]
    }
   ],
   "source": [
    "import pandas as pd\n",
    "\n",
    "# Load the DataFrame from the pickle file\n",
    "corpus = pd.read_pickle('fp_corpus.pkl')\n",
    "\n",
    "# Filter out rows where the 'target' column is 'Hamilton' or 'Madison'\n",
    "corpus_filtered = corpus[corpus['target'].isin(['Hamilton', 'Madison'])]\n",
    "\n",
    "# Remove 2331 rows where the target is 'Hamilton'\n",
    "hamilton_indices = corpus_filtered[corpus_filtered['target'] == 'Hamilton'].index[:2331]\n",
    "corpus_filtered = corpus_filtered.drop(hamilton_indices)\n",
    "\n",
    "# Confirm that both 'Hamilton' and 'Madison' are present and 'Hamilton' has 1275 sentences\n",
    "author_counts = corpus_filtered['target'].value_counts()\n",
    "print(\"Number of sentences for each author after balancing:\")\n",
    "print(author_counts)\n",
    "\n",
    "# Save the modified DataFrame to a new pickle file\n",
    "corpus_filtered.to_pickle('fp_corpus_filtered.pkl')\n"
   ]
  },
  {
   "cell_type": "code",
   "execution_count": 141,
   "metadata": {},
   "outputs": [
    {
     "name": "stdout",
     "output_type": "stream",
     "text": [
      "Number of sentences for each author in the original dataset:\n",
      "Hamilton    3606\n",
      "Madison     1275\n",
      "dispt        759\n",
      "Jay          242\n",
      "HM           227\n",
      "Name: target, dtype: int64\n"
     ]
    }
   ],
   "source": [
    "# Determine the total number of sentences for each author in the original dataset\n",
    "author_counts_original = corpus['target'].value_counts()\n",
    "\n",
    "# Print the total number of sentences for each author in the original dataset\n",
    "print(\"Number of sentences for each author in the original dataset:\")\n",
    "print(author_counts_original)\n"
   ]
  },
  {
   "cell_type": "code",
   "execution_count": 142,
   "metadata": {},
   "outputs": [
    {
     "name": "stdout",
     "output_type": "stream",
     "text": [
      "Number of sentences for each author after balancing:\n",
      "Madison     1275\n",
      "Hamilton    1258\n",
      "Name: target, dtype: int64\n"
     ]
    },
    {
     "data": {
      "text/html": [
       "<div>\n",
       "<style scoped>\n",
       "    .dataframe tbody tr th:only-of-type {\n",
       "        vertical-align: middle;\n",
       "    }\n",
       "\n",
       "    .dataframe tbody tr th {\n",
       "        vertical-align: top;\n",
       "    }\n",
       "\n",
       "    .dataframe thead th {\n",
       "        text-align: right;\n",
       "    }\n",
       "</style>\n",
       "<table border=\"1\" class=\"dataframe\">\n",
       "  <thead>\n",
       "    <tr style=\"text-align: right;\">\n",
       "      <th></th>\n",
       "      <th>text</th>\n",
       "      <th>paper_id</th>\n",
       "      <th>target</th>\n",
       "      <th>sentences</th>\n",
       "      <th>sentence_length</th>\n",
       "      <th>sentence_index</th>\n",
       "      <th>total_sentences</th>\n",
       "    </tr>\n",
       "  </thead>\n",
       "  <tbody>\n",
       "    <tr>\n",
       "      <th>49</th>\n",
       "      <td>The Command of the Military and Naval Forces, ...</td>\n",
       "      <td>74</td>\n",
       "      <td>Hamilton</td>\n",
       "      <td>The Command of the Military and Naval Forces, ...</td>\n",
       "      <td>24</td>\n",
       "      <td>0</td>\n",
       "      <td>35</td>\n",
       "    </tr>\n",
       "    <tr>\n",
       "      <th>49</th>\n",
       "      <td>The Command of the Military and Naval Forces, ...</td>\n",
       "      <td>74</td>\n",
       "      <td>Hamilton</td>\n",
       "      <td>Author: Alexander Hamilton</td>\n",
       "      <td>3</td>\n",
       "      <td>1</td>\n",
       "      <td>35</td>\n",
       "    </tr>\n",
       "    <tr>\n",
       "      <th>49</th>\n",
       "      <td>The Command of the Military and Naval Forces, ...</td>\n",
       "      <td>74</td>\n",
       "      <td>Hamilton</td>\n",
       "      <td>To the People of the State of New York:</td>\n",
       "      <td>9</td>\n",
       "      <td>2</td>\n",
       "      <td>35</td>\n",
       "    </tr>\n",
       "    <tr>\n",
       "      <th>49</th>\n",
       "      <td>The Command of the Military and Naval Forces, ...</td>\n",
       "      <td>74</td>\n",
       "      <td>Hamilton</td>\n",
       "      <td>THE President of the United States is to be \"c...</td>\n",
       "      <td>37</td>\n",
       "      <td>3</td>\n",
       "      <td>35</td>\n",
       "    </tr>\n",
       "    <tr>\n",
       "      <th>49</th>\n",
       "      <td>The Command of the Military and Naval Forces, ...</td>\n",
       "      <td>74</td>\n",
       "      <td>Hamilton</td>\n",
       "      <td>The propriety of this provision is so evident ...</td>\n",
       "      <td>38</td>\n",
       "      <td>4</td>\n",
       "      <td>35</td>\n",
       "    </tr>\n",
       "  </tbody>\n",
       "</table>\n",
       "</div>"
      ],
      "text/plain": [
       "                                                 text paper_id    target  \\\n",
       "49  The Command of the Military and Naval Forces, ...       74  Hamilton   \n",
       "49  The Command of the Military and Naval Forces, ...       74  Hamilton   \n",
       "49  The Command of the Military and Naval Forces, ...       74  Hamilton   \n",
       "49  The Command of the Military and Naval Forces, ...       74  Hamilton   \n",
       "49  The Command of the Military and Naval Forces, ...       74  Hamilton   \n",
       "\n",
       "                                            sentences  sentence_length  \\\n",
       "49  The Command of the Military and Naval Forces, ...               24   \n",
       "49                         Author: Alexander Hamilton                3   \n",
       "49            To the People of the State of New York:                9   \n",
       "49  THE President of the United States is to be \"c...               37   \n",
       "49  The propriety of this provision is so evident ...               38   \n",
       "\n",
       "    sentence_index  total_sentences  \n",
       "49               0               35  \n",
       "49               1               35  \n",
       "49               2               35  \n",
       "49               3               35  \n",
       "49               4               35  "
      ]
     },
     "execution_count": 142,
     "metadata": {},
     "output_type": "execute_result"
    }
   ],
   "source": [
    "# Load the DataFrame from the pickle file\n",
    "corpus = pd.read_pickle('fp_corpus.pkl')\n",
    "\n",
    "# Filter out rows where the 'target' column is 'Hamilton' or 'Madison'\n",
    "corpus_filtered = corpus[corpus['target'].isin(['Hamilton', 'Madison'])]\n",
    "\n",
    "# Remove 2331 rows where the target is 'Hamilton'\n",
    "hamilton_indices = corpus_filtered[corpus_filtered['target'] == 'Hamilton'].index[:2280]\n",
    "corpus_filtered = corpus_filtered.drop(hamilton_indices)\n",
    "\n",
    "# Confirm that both 'Hamilton' and 'Madison' are present and 'Hamilton' has 1275 sentences\n",
    "author_counts = corpus_filtered['target'].value_counts()\n",
    "print(\"Number of sentences for each author after balancing:\")\n",
    "print(author_counts)\n",
    "\n",
    "# Save the modified DataFrame to a new pickle file\n",
    "corpus_filtered.to_pickle('fp_corpus_filtered.pkl')\n",
    "\n",
    "corpus_filtered.head()"
   ]
  },
  {
   "cell_type": "code",
   "execution_count": null,
   "metadata": {},
   "outputs": [],
   "source": []
  },
  {
   "cell_type": "markdown",
   "metadata": {},
   "source": [
    "### Dataset creation\n",
    "\n",
    "Your task is to predict the author of a paper using the text of the paper. You will use a Recurrent Neural Network (RNN) to predict the author of a paper. You will use the Federalist Papers dataset to train and evaluate your model."
   ]
  },
  {
   "cell_type": "code",
   "execution_count": 143,
   "metadata": {},
   "outputs": [],
   "source": [
    "# Disputed authors dataset \n",
    "disputed = authorship[authorship['target'] == 'dispt']\n",
    "\n",
    "# Non-disputed authors dataset\n",
    "non_disputed = authorship[authorship['target'] != 'dispt']\n",
    "\n",
    "# Dataset for only Hamilton and Madison\n",
    "single_Hamilton_Madison = authorship[(authorship['target'] == 'Hamilton') & (authorship['target'] == 'Madison')]"
   ]
  },
  {
   "cell_type": "code",
   "execution_count": 144,
   "metadata": {},
   "outputs": [
    {
     "data": {
      "text/html": [
       "<div>\n",
       "<style scoped>\n",
       "    .dataframe tbody tr th:only-of-type {\n",
       "        vertical-align: middle;\n",
       "    }\n",
       "\n",
       "    .dataframe tbody tr th {\n",
       "        vertical-align: top;\n",
       "    }\n",
       "\n",
       "    .dataframe thead th {\n",
       "        text-align: right;\n",
       "    }\n",
       "</style>\n",
       "<table border=\"1\" class=\"dataframe\">\n",
       "  <thead>\n",
       "    <tr style=\"text-align: right;\">\n",
       "      <th></th>\n",
       "      <th>text</th>\n",
       "      <th>paper_id</th>\n",
       "      <th>target</th>\n",
       "      <th>sentences</th>\n",
       "      <th>sentence_length</th>\n",
       "      <th>sentence_index</th>\n",
       "      <th>total_sentences</th>\n",
       "    </tr>\n",
       "  </thead>\n",
       "  <tbody>\n",
       "  </tbody>\n",
       "</table>\n",
       "</div>"
      ],
      "text/plain": [
       "Empty DataFrame\n",
       "Columns: [text, paper_id, target, sentences, sentence_length, sentence_index, total_sentences]\n",
       "Index: []"
      ]
     },
     "execution_count": 144,
     "metadata": {},
     "output_type": "execute_result"
    }
   ],
   "source": [
    "single_Hamilton_Madison.head(10)"
   ]
  },
  {
   "cell_type": "markdown",
   "metadata": {},
   "source": [
    "### Plot the distribution of the number of papers written by each author."
   ]
  },
  {
   "cell_type": "code",
   "execution_count": 145,
   "metadata": {},
   "outputs": [
    {
     "data": {
      "image/png": "[encoded data removed]",
      "text/plain": [
       "<Figure size 576x432 with 1 Axes>"
      ]
     },
     "metadata": {},
     "output_type": "display_data"
    }
   ],
   "source": [
    "# Make a boxplot\n",
    "plt.figure(figsize=(8, 6))  # Set the figure size\n",
    "non_disputed.boxplot(column='sentence_length')\n",
    "\n",
    "# Add title and labels\n",
    "plt.title('Boxplot of Sentence Length in Non-Disputed Data')\n",
    "plt.xlabel('Non-Disputed')\n",
    "plt.ylabel('Sentence Length')\n",
    "\n",
    "# Show the plot\n",
    "plt.show()\n"
   ]
  },
  {
   "cell_type": "markdown",
   "metadata": {},
   "source": [
    "### Plot the distribution of sentence lengths for each author."
   ]
  },
  {
   "cell_type": "code",
   "execution_count": 146,
   "metadata": {},
   "outputs": [
    {
     "data": {
      "image/png": "[encoded data removed]",
      "text/plain": [
       "<Figure size 720x432 with 1 Axes>"
      ]
     },
     "metadata": {},
     "output_type": "display_data"
    }
   ],
   "source": [
    "import seaborn as sns\n",
    "\n",
    "# Set the style of the seaborn plots\n",
    "sns.set(style=\"whitegrid\")\n",
    "\n",
    "# Create separate boxplots for each target variable\n",
    "plt.figure(figsize=(10, 6))\n",
    "sns.boxplot(x='target', y='sentence_length', data=non_disputed, width=0.3, showfliers=True)\n",
    "plt.title('Boxplot of Sentence Length by Target Variable')\n",
    "plt.xlabel('Target Variable')\n",
    "plt.ylabel('Sentence Length')\n",
    "plt.xticks(rotation=45)  # Rotate x-axis labels for better visibility\n",
    "plt.tight_layout()  # Adjust layout to prevent clipping of labels\n",
    "plt.show()\n"
   ]
  },
  {
   "cell_type": "markdown",
   "metadata": {},
   "source": [
    "### Prepare dataset for training\n",
    "\n",
    "Prepare a training, validation, and test dataset. What is your X and y? What is the size of your training, validation, and test dataset?"
   ]
  },
  {
   "cell_type": "code",
   "execution_count": 147,
   "metadata": {},
   "outputs": [
    {
     "name": "stdout",
     "output_type": "stream",
     "text": [
      "Training samples: 2026\n",
      "Validation samples: 507\n"
     ]
    }
   ],
   "source": [
    "from sklearn.model_selection import train_test_split\n",
    "\n",
    "X_train, x_val, y_train, y_val = train_test_split(\n",
    "    corpus_filtered['text'], corpus_filtered['target'], test_size=0.2, random_state=404)\n",
    "print(f'Training samples: {len(X_train)}')\n",
    "print(f'Validation samples: {len(x_val)}')"
   ]
  },
  {
   "cell_type": "markdown",
   "metadata": {},
   "source": [
    "#### Visualize some random samples"
   ]
  },
  {
   "cell_type": "code",
   "execution_count": 148,
   "metadata": {},
   "outputs": [
    {
     "name": "stdout",
     "output_type": "stream",
     "text": [
      "Random sentence: The Powers Conferred by the Constitution Further Considered From the New York Packet. Tuesday, January 22, 1788. Author: James Madison To the People of the State of New York: THE SECOND class of powers, lodged in the general government, consists of those which regulate the intercourse with foreign nations, to wit: to make treaties; to send and receive ambassadors, other public ministers, and consuls; to define and punish piracies and felonies committed on the high seas, and offenses against the law of nations; to regulate foreign commerce, including a power to prohibit, after the year 1808, the importation of slaves, and to lay an intermediate duty of ten dollars per head, as a discouragement to such importations. This class of powers forms an obvious and essential branch of the federal administration. If we are to be one nation in any respect, it clearly ought to be in respect to other nations. The powers to make treaties and to send and receive ambassadors, speak their own propriety. Both of them are comprised in the articles of Confederation, with this difference only, that the former is disembarrassed, by the plan of the convention, of an exception, under which treaties might be substantially frustrated by regulations of the States; and that a power of appointing and receiving \"other public ministers and consuls,\" is expressly and very properly added to the former provision concerning ambassadors. The term ambassador, if taken strictly, as seems to be required by the second of the articles of Confederation, comprehends the highest grade only of public ministers, and excludes the grades which the United States will be most likely to prefer, where foreign embassies may be necessary. And under no latitude of construction will the term comprehend consuls. Yet it has been found expedient, and has been the practice of Congress, to employ the inferior grades of public ministers, and to send and receive consuls. It is true, that where treaties of commerce stipulate for the mutual appointment of consuls, whose functions are connected with commerce, the admission of foreign consuls may fall within the power of making commercial treaties; and that where no such treaties exist, the mission of American consuls into foreign countries may PERHAPS be covered under the authority, given by the ninth article of the Confederation, to appoint all such civil officers as may be necessary for managing the general affairs of the United States. But the admission of consuls into the United States, where no previous treaty has stipulated it, seems to have been nowhere provided for. A supply of the omission is one of the lesser instances in which the convention have improved on the model before them. But the most minute provisions become important when they tend to obviate the necessity or the pretext for gradual and unobserved usurpations of power. A list of the cases in which Congress have been betrayed, or forced by the defects of the Confederation, into violations of their chartered authorities, would not a little surprise those who have paid no attention to the subject; and would be no inconsiderable argument in favor of the new Constitution, which seems to have provided no less studiously for the lesser, than the more obvious and striking defects of the old. The power to define and punish piracies and felonies committed on the high seas, and offenses against the law of nations, belongs with equal propriety to the general government, and is a still greater improvement on the articles of Confederation. These articles contain no provision for the case of offenses against the law of nations; and consequently leave it in the power of any indiscreet member to embroil the Confederacy with foreign nations. The provision of the federal articles on the subject of piracies and felonies extends no further than to the establishment of courts for the trial of these offenses. The definition of piracies might, perhaps, without inconveniency, be left to the law of nations; though a legislative definition of them is found in most municipal codes. A definition of felonies on the high seas is evidently requisite. Felony is a term of loose signification, even in the common law of England; and of various import in the statute law of that kingdom. But neither the common nor the statute law of that, or of any other nation, ought to be a standard for the proceedings of this, unless previously made its own by legislative adoption. The meaning of the term, as defined in the codes of the several States, would be as impracticable as the former would be a dishonorable and illegitimate guide. It is not precisely the same in any two of the States; and varies in each with every revision of its criminal laws. For the sake of certainty and uniformity, therefore, the power of defining felonies in this case was in every respect necessary and proper. The regulation of foreign commerce, having fallen within several views which have been taken of this subject, has been too fully discussed to need additional proofs here of its being properly submitted to the federal administration. It were doubtless to be wished, that the power of prohibiting the importation of slaves had not been postponed until the year 1808, or rather that it had been suffered to have immediate operation. But it is not difficult to account, either for this restriction on the general government, or for the manner in which the whole clause is expressed. It ought to be considered as a great point gained in favor of humanity, that a period of twenty years may terminate forever, within these States, a traffic which has so long and so loudly upbraided the barbarism of modern policy; that within that period, it will receive a considerable discouragement from the federal government, and may be totally abolished, by a concurrence of the few States which continue the unnatural traffic, in the prohibitory example which has been given by so great a majority of the Union. Happy would it be for the unfortunate Africans, if an equal prospect lay before them of being redeemed from the oppressions of their European brethren! Attempts have been made to pervert this clause into an objection against the Constitution, by representing it on one side as a criminal toleration of an illicit practice, and on another as calculated to prevent voluntary and beneficial emigrations from Europe to America. I mention these misconstructions, not with a view to give them an answer, for they deserve none, but as specimens of the manner and spirit in which some have thought fit to conduct their opposition to the proposed government. The powers included in the THIRD class are those which provide for the harmony and proper intercourse among the States. Under this head might be included the particular restraints imposed on the authority of the States, and certain powers of the judicial department; but the former are reserved for a distinct class, and the latter will be particularly examined when we arrive at the structure and organization of the government. I shall confine myself to a cursory review of the remaining powers comprehended under this third description, to wit: to regulate commerce among the several States and the Indian tribes; to coin money, regulate the value thereof, and of foreign coin; to provide for the punishment of counterfeiting the current coin and secureties of the United States; to fix the standard of weights and measures; to establish a uniform rule of naturalization, and uniform laws of bankruptcy, to prescribe the manner in which the public acts, records, and judicial proceedings of each State shall be proved, and the effect they shall have in other States; and to establish post offices and post roads. The defect of power in the existing Confederacy to regulate the commerce between its several members, is in the number of those which have been clearly pointed out by experience. To the proofs and remarks which former papers have brought into view on this subject, it may be added that without this supplemental provision, the great and essential power of regulating foreign commerce would have been incomplete and ineffectual. A very material object of this power was the relief of the States which import and export through other States, from the improper contributions levied on them by the latter. Were these at liberty to regulate the trade between State and State, it must be foreseen that ways would be found out to load the articles of import and export, during the passage through their jurisdiction, with duties which would fall on the makers of the latter and the consumers of the former. We may be assured by past experience, that such a practice would be introduced by future contrivances; and both by that and a common knowledge of human affairs, that it would nourish unceasing animosities, and not improbably terminate in serious interruptions of the public tranquillity. To those who do not view the question through the medium of passion or of interest, the desire of the commercial States to collect, in any form, an indirect revenue from their uncommercial neighbors, must appear not less impolitic than it is unfair; since it would stimulate the injured party, by resentment as well as interest, to resort to less convenient channels for their foreign trade. But the mild voice of reason, pleading the cause of an enlarged and permanent interest, is but too often drowned, before public bodies as well as individuals, by the clamors of an impatient avidity for immediate and immoderate gain. The necessity of a superintending authority over the reciprocal trade of confederated States, has been illustrated by other examples as well as our own. In Switzerland, where the Union is so very slight, each canton is obliged to allow to merchandises a passage through its jurisdiction into other cantons, without an augmentation of the tolls. In Germany it is a law of the empire, that the princes and states shall not lay tolls or customs on bridges, rivers, or passages, without the consent of the emperor and the diet; though it appears from a quotation in an antecedent paper, that the practice in this, as in many other instances in that confederacy, has not followed the law, and has produced there the mischiefs which have been foreseen here. Among the restraints imposed by the Union of the Netherlands on its members, one is, that they shall not establish imposts disadvantageous to their neighbors, without the general permission. The regulation of commerce with the Indian tribes is very properly unfettered from two limitations in the articles of Confederation, which render the provision obscure and contradictory. The power is there restrained to Indians, not members of any of the States, and is not to violate or infringe the legislative right of any State within its own limits. What description of Indians are to be deemed members of a State, is not yet settled, and has been a question of frequent perplexity and contention in the federal councils. And how the trade with Indians, though not members of a State, yet residing within its legislative jurisdiction, can be regulated by an external authority, without so far intruding on the internal rights of legislation, is absolutely incomprehensible. This is not the only case in which the articles of Confederation have inconsiderately endeavored to accomplish impossibilities; to reconcile a partial sovereignty in the Union, with complete sovereignty in the States; to subvert a mathematical axiom, by taking away a part, and letting the whole remain. All that need be remarked on the power to coin money, regulate the value thereof, and of foreign coin, is, that by providing for this last case, the Constitution has supplied a material omission in the articles of Confederation. The authority of the existing Congress is restrained to the regulation of coin STRUCK by their own authority, or that of the respective States. It must be seen at once that the proposed uniformity in the VALUE of the current coin might be destroyed by subjecting that of foreign coin to the different regulations of the different States. The punishment of counterfeiting the public securities, as well as the current coin, is submitted of course to that authority which is to secure the value of both. The regulation of weights and measures is transferred from the articles of Confederation, and is founded on like considerations with the preceding power of regulating coin. The dissimilarity in the rules of naturalization has long been remarked as a fault in our system, and as laying a foundation for intricate and delicate questions. In the fourth article of the Confederation, it is declared \"that the FREE INHABITANTS of each of these States, paupers, vagabonds, and fugitives from justice, excepted, shall be entitled to all privileges and immunities of FREE CITIZENS in the several States; and THE PEOPLE of each State shall, in every other, enjoy all the privileges of trade and commerce,\" etc. There is a confusion of language here, which is remarkable. Why the terms FREE INHABITANTS are used in one part of the article, FREE CITIZENS in another, and PEOPLE in another; or what was meant by superadding to \"all privileges and immunities of free citizens,\" \"all the privileges of trade and commerce,\" cannot easily be determined. It seems to be a construction scarcely avoidable, however, that those who come under the denomination of FREE INHABITANTS of a State, although not citizens of such State, are entitled, in every other State, to all the privileges of FREE CITIZENS of the latter; that is, to greater privileges than they may be entitled to in their own State: so that it may be in the power of a particular State, or rather every State is laid under a necessity, not only to confer the rights of citizenship in other States upon any whom it may admit to such rights within itself, but upon any whom it may allow to become inhabitants within its jurisdiction. But were an exposition of the term \"inhabitants\" to be admitted which would confine the stipulated privileges to citizens alone, the difficulty is diminished only, not removed. The very improper power would still be retained by each State, of naturalizing aliens in every other State. In one State, residence for a short term confirms all the rights of citizenship: in another, qualifications of greater importance are required. An alien, therefore, legally incapacitated for certain rights in the latter, may, by previous residence only in the former, elude his incapacity; and thus the law of one State be preposterously rendered paramount to the law of another, within the jurisdiction of the other. We owe it to mere casualty, that very serious embarrassments on this subject have been hitherto escaped. By the laws of several States, certain descriptions of aliens, who had rendered themselves obnoxious, were laid under interdicts inconsistent not only with the rights of citizenship but with the privilege of residence. What would have been the consequence, if such persons, by residence or otherwise, had acquired the character of citizens under the laws of another State, and then asserted their rights as such, both to residence and citizenship, within the State proscribing them? Whatever the legal consequences might have been, other consequences would probably have resulted, of too serious a nature not to be provided against. The new Constitution has accordingly, with great propriety, made provision against them, and all others proceeding from the defect of the Confederation on this head, by authorizing the general government to establish a uniform rule of naturalization throughout the United States. The power of establishing uniform laws of bankruptcy is so intimately connected with the regulation of commerce, and will prevent so many frauds where the parties or their property may lie or be removed into different States, that the expediency of it seems not likely to be drawn into question. The power of prescribing by general laws, the manner in which the public acts, records and judicial proceedings of each State shall be proved, and the effect they shall have in other States, is an evident and valuable improvement on the clause relating to this subject in the articles of Confederation. The meaning of the latter is extremely indeterminate, and can be of little importance under any interpretation which it will bear. The power here established may be rendered a very convenient instrument of justice, and be particularly beneficial on the borders of contiguous States, where the effects liable to justice may be suddenly and secretly translated, in any stage of the process, within a foreign jurisdiction. The power of establishing post roads must, in every view, be a harmless power, and may, perhaps, by judicious management, become productive of great public conveniency. Nothing which tends to facilitate the intercourse between the States can be deemed unworthy of the public care. PUBLIUS.\n",
      "Author: Madison\n"
     ]
    }
   ],
   "source": [
    "import random\n",
    "\n",
    "# sample a random sentence from the training set\n",
    "random_idx = random.randint(0, len(X_train))\n",
    "print(f'Random sentence: {X_train.iloc[random_idx]}')\n",
    "print(f'Author: {y_train.iloc[random_idx]}')"
   ]
  },
  {
   "cell_type": "code",
   "execution_count": 149,
   "metadata": {},
   "outputs": [
    {
     "data": {
      "image/png": "[encoded data removed]",
      "text/plain": [
       "<Figure size 720x216 with 1 Axes>"
      ]
     },
     "metadata": {},
     "output_type": "display_data"
    },
    {
     "data": {
      "image/png": "[encoded data removed]",
      "text/plain": [
       "<Figure size 720x216 with 1 Axes>"
      ]
     },
     "metadata": {},
     "output_type": "display_data"
    },
    {
     "data": {
      "image/png": "[encoded data removed]",
      "text/plain": [
       "<Figure size 720x216 with 1 Axes>"
      ]
     },
     "metadata": {},
     "output_type": "display_data"
    }
   ],
   "source": [
    "import textwrap\n",
    "\n",
    "# 3 random sentences from the corpus\n",
    "random_indices = random.sample(range(len(corpus_filtered)), 3)\n",
    "random_sentences = corpus_filtered.iloc[random_indices]['sentences']\n",
    "\n",
    "max_chars_per_line = 50\n",
    "\n",
    "# Plot an empty graph for each sentence\n",
    "for i, random_sentence in enumerate(random_sentences):\n",
    "    wrapped_sentence = textwrap.fill(random_sentence, max_chars_per_line)\n",
    "    plt.figure(figsize=(10, 3))\n",
    "    plt.axis('off')\n",
    "    plt.text(0.5, 0.5, wrapped_sentence, wrap=True, ha='center', va='center', fontsize=12)\n",
    "    plt.title(f'Random Sentence {i+1}')\n",
    "    plt.show()\n"
   ]
  },
  {
   "cell_type": "code",
   "execution_count": 150,
   "metadata": {},
   "outputs": [
    {
     "data": {
      "image/png": "[encoded data removed]",
      "text/plain": [
       "<Figure size 720x576 with 1 Axes>"
      ]
     },
     "metadata": {},
     "output_type": "display_data"
    }
   ],
   "source": [
    "from sklearn.decomposition import PCA\n",
    "from sklearn.feature_extraction.text import TfidfVectorizer\n",
    "from mpl_toolkits.mplot3d import Axes3D\n",
    "\n",
    "# Use TF-IDF to vectorize the text data\n",
    "tfidf_vectorizer = TfidfVectorizer(max_features=1000)\n",
    "X_train_tfidf = tfidf_vectorizer.fit_transform(X_train)\n",
    "\n",
    "# Apply PCA to reduce the dimensionality to 3 components\n",
    "pca = PCA(n_components=3)\n",
    "X_train_pca = pca.fit_transform(X_train_tfidf.toarray())\n",
    "\n",
    "# Create a DataFrame for the PCA-transformed data\n",
    "df_pca = pd.DataFrame(X_train_pca, columns=['PC1', 'PC2', 'PC3'])\n",
    "\n",
    "# Add the author labels to the DataFrame\n",
    "df_pca['Author'] = y_train.values\n",
    "\n",
    "# Plot the data in 3D\n",
    "fig = plt.figure(figsize=(10, 8))\n",
    "ax = fig.add_subplot(111, projection='3d')\n",
    "\n",
    "# Scatter plot for each author\n",
    "authors = df_pca['Author'].unique()\n",
    "colors = ['r', 'g', 'b', 'c', 'm', 'y', 'k']\n",
    "for author, color in zip(authors, colors):\n",
    "    df_author = df_pca[df_pca['Author'] == author]\n",
    "    ax.scatter(df_author['PC1'], df_author['PC2'], df_author['PC3'], c=color, label=author)\n",
    "\n",
    "ax.set_xlabel('PC1')\n",
    "ax.set_ylabel('PC2')\n",
    "ax.set_zlabel('PC3')\n",
    "ax.set_title('PCA Visualization of Text Data in 3D')\n",
    "ax.legend()\n",
    "plt.show()\n"
   ]
  },
  {
   "cell_type": "markdown",
   "metadata": {},
   "source": [
    "#### Plot the distribution of training and validation samples\n",
    "\n",
    "Have you split the dataset in a stratified manner? Explain why it is important to split the dataset in a stratified manner. If you have not, explain why you did not split the dataset in a stratified manner. See the documentation for [train_test_split](https://scikit-learn.org/stable/modules/generated/sklearn.model_selection.train_test_split.html) for more information."
   ]
  },
  {
   "cell_type": "markdown",
   "metadata": {},
   "source": [
    "#### Plot the datasets"
   ]
  },
  {
   "cell_type": "code",
   "execution_count": 151,
   "metadata": {},
   "outputs": [
    {
     "name": "stderr",
     "output_type": "stream",
     "text": [
      "c:\\Users\\Yera\\anaconda3\\lib\\site-packages\\seaborn\\_decorators.py:36: FutureWarning: Pass the following variable as a keyword arg: x. From version 0.12, the only valid positional argument will be `data`, and passing other arguments without an explicit keyword will result in an error or misinterpretation.\n",
      "  warnings.warn(\n",
      "c:\\Users\\Yera\\anaconda3\\lib\\site-packages\\seaborn\\_decorators.py:36: FutureWarning: Pass the following variable as a keyword arg: x. From version 0.12, the only valid positional argument will be `data`, and passing other arguments without an explicit keyword will result in an error or misinterpretation.\n",
      "  warnings.warn(\n"
     ]
    },
    {
     "data": {
      "image/png": "[encoded data removed]",
      "text/plain": [
       "<Figure size 1080x432 with 2 Axes>"
      ]
     },
     "metadata": {},
     "output_type": "display_data"
    }
   ],
   "source": [
    "fig, ax = plt.subplots(1, 2, figsize=(15, 6))\n",
    "\n",
    "# training set\n",
    "sns.countplot(y_train, ax=ax[0])\n",
    "ax[0].set_title('Training Set Distribution')\n",
    "\n",
    "# validation set\n",
    "sns.countplot(y_val, ax=ax[1])\n",
    "ax[1].set_title('Validation Set Distribution')\n",
    "\n",
    "plt.show()"
   ]
  },
  {
   "cell_type": "markdown",
   "metadata": {},
   "source": [
    "#### Convert the target labels to one hot encodings"
   ]
  },
  {
   "cell_type": "code",
   "execution_count": 152,
   "metadata": {},
   "outputs": [
    {
     "name": "stdout",
     "output_type": "stream",
     "text": [
      "One hot encoded training labels shape: (2026, 2)\n",
      "One hot encoded validation labels shape: (507, 2)\n"
     ]
    }
   ],
   "source": [
    "from sklearn.preprocessing import OneHotEncoder\n",
    "\n",
    "ohe = OneHotEncoder()\n",
    "\n",
    "y_train_ohe = ohe.fit_transform(y_train.values.reshape(-1, 1))\n",
    "y_val_ohe = ohe.transform(y_val.values.reshape(-1, 1))\n",
    "\n",
    "print(f'One hot encoded training labels shape: {y_train_ohe.shape}')\n",
    "print(f'One hot encoded validation labels shape: {y_val_ohe.shape}')"
   ]
  },
  {
   "cell_type": "code",
   "execution_count": 153,
   "metadata": {},
   "outputs": [
    {
     "data": {
      "text/plain": [
       "(<5x2 sparse matrix of type '<class 'numpy.float64'>'\n",
       " \twith 5 stored elements in Compressed Sparse Row format>,\n",
       " 84    Hamilton\n",
       " 76     Madison\n",
       " 55    Hamilton\n",
       " 75     Madison\n",
       " 58    Hamilton\n",
       " Name: target, dtype: object)"
      ]
     },
     "execution_count": 153,
     "metadata": {},
     "output_type": "execute_result"
    }
   ],
   "source": [
    "y_train_ohe[:5], y_train[:5]"
   ]
  },
  {
   "cell_type": "markdown",
   "metadata": {},
   "source": [
    "#### Encode the labels"
   ]
  },
  {
   "cell_type": "code",
   "execution_count": 154,
   "metadata": {},
   "outputs": [
    {
     "name": "stdout",
     "output_type": "stream",
     "text": [
      "Label encoded training labels shape: (2026,)\n",
      "Label encoded validation labels shape: (507,)\n"
     ]
    }
   ],
   "source": [
    "from sklearn.preprocessing import LabelEncoder\n",
    "\n",
    "label_encoder = LabelEncoder()\n",
    "y_train_le = label_encoder.fit_transform(y_train)\n",
    "y_val_le = label_encoder.transform(y_val)\n",
    "\n",
    "print(f'Label encoded training labels shape: {y_train_le.shape}')\n",
    "print(f'Label encoded validation labels shape: {y_val_le.shape}')"
   ]
  },
  {
   "cell_type": "code",
   "execution_count": 155,
   "metadata": {},
   "outputs": [
    {
     "name": "stdout",
     "output_type": "stream",
     "text": [
      "Original label: Hamilton - Label encoded: 0\n",
      "Original label: Madison - Label encoded: 1\n",
      "Original label: Hamilton - Label encoded: 0\n",
      "Original label: Madison - Label encoded: 1\n",
      "Original label: Hamilton - Label encoded: 0\n"
     ]
    }
   ],
   "source": [
    "for i in range(5):\n",
    "    print(f'Original label: {y_train.iloc[i]} - Label encoded: {y_train_le[i]}')"
   ]
  },
  {
   "cell_type": "code",
   "execution_count": 156,
   "metadata": {},
   "outputs": [
    {
     "data": {
      "text/plain": [
       "(2, array(['Hamilton', 'Madison'], dtype=object))"
      ]
     },
     "execution_count": 156,
     "metadata": {},
     "output_type": "execute_result"
    }
   ],
   "source": [
    "num_classes = len(label_encoder.classes_)\n",
    "class_names = label_encoder.classes_\n",
    "num_classes, class_names"
   ]
  },
  {
   "cell_type": "markdown",
   "metadata": {},
   "source": [
    "## Train a TF-IDF model"
   ]
  },
  {
   "cell_type": "code",
   "execution_count": 157,
   "metadata": {},
   "outputs": [],
   "source": [
    "from sklearn.feature_extraction.text import TfidfVectorizer\n",
    "from sklearn.pipeline import Pipeline\n",
    "from sklearn.svm import SVC"
   ]
  },
  {
   "cell_type": "code",
   "execution_count": 158,
   "metadata": {},
   "outputs": [
    {
     "data": {
      "text/plain": [
       "Pipeline(steps=[('tfidf', TfidfVectorizer()),\n",
       "                ('clf', SVC(kernel='linear', random_state=42))])"
      ]
     },
     "execution_count": 158,
     "metadata": {},
     "output_type": "execute_result"
    }
   ],
   "source": [
    "text_clf = Pipeline([\n",
    "    ('tfidf', TfidfVectorizer()),\n",
    "    ('clf', SVC(kernel='linear', C=1.0, random_state=42))\n",
    "])\n",
    "\n",
    "# fit the model\n",
    "text_clf.fit(X_train, y_train_le)"
   ]
  },
  {
   "cell_type": "code",
   "execution_count": 159,
   "metadata": {},
   "outputs": [
    {
     "data": {
      "text/plain": [
       "1.0"
      ]
     },
     "execution_count": 159,
     "metadata": {},
     "output_type": "execute_result"
    }
   ],
   "source": [
    "text_clf.score(x_val, y_val_le)"
   ]
  },
  {
   "cell_type": "markdown",
   "metadata": {},
   "source": [
    "### Explain the TF-IDF model\n",
    "\n",
    "- What is the TF-IDF model?\n",
    "- How does the TF-IDF model work?\n",
    "- What are the hyperparameters of the TF-IDF model?\n",
    "- How do you select the hyperparameters of the TF-IDF model?\n",
    "- Why is it helpful to establish a baseline model?"
   ]
  },
  {
   "cell_type": "markdown",
   "metadata": {},
   "source": [
    "#### What is the TF-IDF model?\n",
    "Term Frequency-Inverse Document Frequency (TF-IDF) is a statistical measure to measure the importance of terms used in a document in relation to the corpus. Through TF-IDF, the texts get vectorized and gets scored by importance. \n",
    "\n",
    "#### How does the TF-IDF model work?\n",
    "In TF-IDF model, the term frequency(TF, how many times a word appears in a document) is multiplied by the inverse document frequency (IDF, how many times a word appears across the corpus.) IDF shows the significance of the term in the entire corpus. \n",
    "\n",
    "#### What are the hyperparameters of the TF-IDF model?\n",
    "Some of the hyperparameters of the TF-IDF model are:\n",
    "\"max_features\": maximum number of features\n",
    "\"ngram_range\": number of different n-grams \n",
    "\"stop-words\": words to be ignored, such as \"the.\"\n",
    "\"max_df\": maximum number a term can appear in the document (rest will be ignored)\n",
    "\"min_dif\": minimum number a term must appear in the document to be included in the analysis\n",
    "\n",
    "#### How do you select the hyperparameters of the TF-IDF model?\n",
    "There are several ways to choose hyperparameters of the TF-IDF model, such as grid search or randomized search. Cross validation can also be implemented in the process. Otherwise, it is possible to experiment with different parameters to have the best performance on a validation set. \n",
    "\n",
    "#### Why is it helpful to establish a baseline model?\n",
    "A baseline model can provide a simple solution and also be a good comparison model, or a point of reference to the more advanced and developed models. \n"
   ]
  },
  {
   "cell_type": "markdown",
   "metadata": {},
   "source": []
  }
 ],
 "metadata": {
  "kernelspec": {
   "display_name": "fed_papers",
   "language": "python",
   "name": "python3"
  },
  "language_info": {
   "codemirror_mode": {
    "name": "ipython",
    "version": 3
   },
   "file_extension": ".py",
   "mimetype": "text/x-python",
   "name": "python",
   "nbconvert_exporter": "python",
   "pygments_lexer": "ipython3",
   "version": "3.9.12"
  }
 },
 "nbformat": 4,
 "nbformat_minor": 2
}
