{
 "cells": [
  {
   "cell_type": "markdown",
   "metadata": {},
   "source": [
    "# Author prediction using RNNs\n",
    "\n",
    "In this notebook, you will prepare a dataset to predict authorship of the Federalist Papers using Recurrent Neural Networks (RNNs).\n",
    "\n",
    "## Federalist Papers\n",
    "\n",
    "The Federalist Papers are a collection of 85 articles and essays written by Alexander Hamilton, James Madison, and John Jay under the pseudonym \"Publius\". They were published in 1787 and 1788 to promote the ratification of the United States Constitution. The authors of the Federalist Papers wanted to remain anonymous, so they used the pseudonym \"Publius\". The articles were published in two newspapers, the New York Packet and the Independent Journal. The Federalist Papers are considered important works of American political thought and are still widely read today.\n",
    "\n",
    "## Additional information\n",
    "\n",
    "- [Federalist Papers](https://en.wikipedia.org/wiki/The_Federalist_Papers)\n",
    "- [Federalist Papers dataset](https://www.kaggle.com/datasets/tobyanderson/federalist-papers)\n",
    "- [LOC Research Guide](https://guides.loc.gov/federalist-papers/full-text)\n",
    "\n",
    "## Objectives (a)\n",
    "\n",
    "- Task 1: Design your dataset to predict the author of a text using RNNs.\n",
    "- Task 2: Explain the methodology of your dataset creation.\n",
    "- Task 3: Establish a baseline model using Machine Learning algorithms (SVM, Random Forest, etc.).\n",
    "  \n",
    "## Objectives (b)\n",
    "\n",
    "- Task 4: Train a RNN model to predict the author of a text.\n",
    "- Task 5: Evaluate the performance of your model.\n",
    "- Task 6: Explain your model architecture, hyperparameters, and the results of your model."
   ]
  },
  {
   "cell_type": "markdown",
   "metadata": {},
   "source": [
    "## Task 1: Dataset Creation"
   ]
  },
  {
   "cell_type": "markdown",
   "metadata": {},
   "source": [
    "### Dataset description\n",
    "\n",
    "Use the below code to scrape the Library of Congress research guide for the Federalist Papers. You need to pip install the following for the below code to work:\n",
    "\n",
    "- `pip install beautifulsoup4`\n",
    "- `pip install requests`\n",
    "- `pip install pandas`"
   ]
  },
  {
   "cell_type": "code",
   "execution_count": 67,
   "metadata": {},
   "outputs": [],
   "source": [
    "import pandas as pd\n",
    "from io import StringIO\n",
    "from bs4 import BeautifulSoup as bs\n",
    "import requests\n",
    "\n",
    "url = 'https://guides.loc.gov/federalist-papers/full-text'\n",
    "\n",
    "html = requests.get(url).text\n",
    "soup = bs(html, 'html.parser')\n",
    "\n",
    "# convert the html table to a pandas dataframe\n",
    "table = soup.find('table')\n",
    "\n",
    "# List of Federalist Papers\n",
    "meta_df = pd.read_html(StringIO(str(table)), parse_dates=True)[0]"
   ]
  },
  {
   "cell_type": "markdown",
   "metadata": {},
   "source": [
    "### Dataset datatypes"
   ]
  },
  {
   "cell_type": "code",
   "execution_count": 68,
   "metadata": {},
   "outputs": [
    {
     "name": "stdout",
     "output_type": "stream",
     "text": [
      "<class 'pandas.core.frame.DataFrame'>\n",
      "RangeIndex: 85 entries, 0 to 84\n",
      "Data columns (total 5 columns):\n",
      " #   Column       Non-Null Count  Dtype  \n",
      "---  ------       --------------  -----  \n",
      " 0   No.          85 non-null     float64\n",
      " 1   Title        85 non-null     object \n",
      " 2   Author       85 non-null     object \n",
      " 3   Publication  85 non-null     object \n",
      " 4   Date         85 non-null     object \n",
      "dtypes: float64(1), object(4)\n",
      "memory usage: 3.4+ KB\n"
     ]
    }
   ],
   "source": [
    "meta_df.info()"
   ]
  },
  {
   "cell_type": "code",
   "execution_count": 69,
   "metadata": {},
   "outputs": [
    {
     "data": {
      "text/html": [
       "<div>\n",
       "<style scoped>\n",
       "    .dataframe tbody tr th:only-of-type {\n",
       "        vertical-align: middle;\n",
       "    }\n",
       "\n",
       "    .dataframe tbody tr th {\n",
       "        vertical-align: top;\n",
       "    }\n",
       "\n",
       "    .dataframe thead th {\n",
       "        text-align: right;\n",
       "    }\n",
       "</style>\n",
       "<table border=\"1\" class=\"dataframe\">\n",
       "  <thead>\n",
       "    <tr style=\"text-align: right;\">\n",
       "      <th></th>\n",
       "      <th>No.</th>\n",
       "      <th>Title</th>\n",
       "      <th>Author</th>\n",
       "      <th>Publication</th>\n",
       "      <th>Date</th>\n",
       "    </tr>\n",
       "  </thead>\n",
       "  <tbody>\n",
       "    <tr>\n",
       "      <th>0</th>\n",
       "      <td>1.0</td>\n",
       "      <td>General Introduction</td>\n",
       "      <td>Hamilton</td>\n",
       "      <td>For the Independent Journal</td>\n",
       "      <td>--</td>\n",
       "    </tr>\n",
       "    <tr>\n",
       "      <th>1</th>\n",
       "      <td>2.0</td>\n",
       "      <td>Concerning Dangers from Foreign Force and Infl...</td>\n",
       "      <td>Jay</td>\n",
       "      <td>For the Independent Journal</td>\n",
       "      <td>--</td>\n",
       "    </tr>\n",
       "    <tr>\n",
       "      <th>2</th>\n",
       "      <td>3.0</td>\n",
       "      <td>The Same Subject Continued: Concerning Dangers...</td>\n",
       "      <td>Jay</td>\n",
       "      <td>For the Independent Journal</td>\n",
       "      <td>--</td>\n",
       "    </tr>\n",
       "    <tr>\n",
       "      <th>3</th>\n",
       "      <td>4.0</td>\n",
       "      <td>The Same Subject Continued: Concerning Dangers...</td>\n",
       "      <td>Jay</td>\n",
       "      <td>For the Independent Journal</td>\n",
       "      <td>--</td>\n",
       "    </tr>\n",
       "    <tr>\n",
       "      <th>4</th>\n",
       "      <td>5.0</td>\n",
       "      <td>The Same Subject Continued: Concerning Dangers...</td>\n",
       "      <td>Jay</td>\n",
       "      <td>For the Independent Journal</td>\n",
       "      <td>--</td>\n",
       "    </tr>\n",
       "  </tbody>\n",
       "</table>\n",
       "</div>"
      ],
      "text/plain": [
       "   No.                                              Title    Author  \\\n",
       "0  1.0                               General Introduction  Hamilton   \n",
       "1  2.0  Concerning Dangers from Foreign Force and Infl...       Jay   \n",
       "2  3.0  The Same Subject Continued: Concerning Dangers...       Jay   \n",
       "3  4.0  The Same Subject Continued: Concerning Dangers...       Jay   \n",
       "4  5.0  The Same Subject Continued: Concerning Dangers...       Jay   \n",
       "\n",
       "                   Publication Date  \n",
       "0  For the Independent Journal   --  \n",
       "1  For the Independent Journal   --  \n",
       "2  For the Independent Journal   --  \n",
       "3  For the Independent Journal   --  \n",
       "4  For the Independent Journal   --  "
      ]
     },
     "execution_count": 69,
     "metadata": {},
     "output_type": "execute_result"
    }
   ],
   "source": [
    "meta_df.head()"
   ]
  },
  {
   "cell_type": "markdown",
   "metadata": {},
   "source": [
    "### Autorship counts\n",
    "\n",
    "Plot the count the number of papers written by each author. We want to create a machine learning dataset that consists of a train, validation, and test set. We will use the train set to train the model, the validation set to tune the hyperparameters, and the test set to evaluate the model."
   ]
  },
  {
   "cell_type": "code",
   "execution_count": 70,
   "metadata": {},
   "outputs": [
    {
     "data": {
      "image/png": "[encoded data removed]",
      "text/plain": [
       "<Figure size 720x432 with 1 Axes>"
      ]
     },
     "metadata": {},
     "output_type": "display_data"
    }
   ],
   "source": [
    "import matplotlib.pyplot as plt\n",
    "import seaborn as sns\n",
    "\n",
    "# plot the number of papers written by each author\n",
    "plt.figure(figsize=(10, 6))\n",
    "sns.countplot(y='Author', data=meta_df)\n",
    "plt.title('Number of Papers Written by Each Author')\n",
    "plt.show()"
   ]
  },
  {
   "cell_type": "markdown",
   "metadata": {},
   "source": [
    "Based on the data, answer the following questions:\n",
    "\n",
    "- How many papers were written by each author?\n",
    "- How should you construct your dataset? Explain your reasoning."
   ]
  },
  {
   "cell_type": "markdown",
   "metadata": {},
   "source": [
    "#### How many papers were written by each author?\n",
    "Hamilton wrote 51, Jay wrote 5 and Madison wrote 15. There are 3 papers that are written together by Hamilton and Madison. There are 11 disputed papers that seem to be written by Hamilton, Madison, or by both of them. \n",
    "\n",
    "#### How should you construct your dataset? Explain your reasoning.\n",
    "To analyze and determine the authorship of the disputed papers, we will first preprocess the data by removing papers that are written by both Hamilton and Madison because that can be confusing as well as those that are disputed. Also the disputed papers are only contested between Hamilton and Madison, the papers written by Jay will also be dropped. "
   ]
  },
  {
   "cell_type": "markdown",
   "metadata": {},
   "source": [
    "### Contested authorship"
   ]
  },
  {
   "cell_type": "code",
   "execution_count": 71,
   "metadata": {},
   "outputs": [
    {
     "name": "stdout",
     "output_type": "stream",
     "text": [
      "Contested authorship of papers: [49. 50. 51. 52. 53. 54. 55. 56. 57. 62. 63.]\n",
      "Total number of disputed papers: 11\n"
     ]
    }
   ],
   "source": [
    "# disputed papers\n",
    "disputed_papers = meta_df[meta_df['Author'] == 'Hamilton or Madison']\n",
    "contested_authorship = disputed_papers['No.'].values\n",
    "print(f'Contested authorship of papers: {contested_authorship}')\n",
    "print(f'Total number of disputed papers: {len(disputed_papers)}')"
   ]
  },
  {
   "cell_type": "markdown",
   "metadata": {},
   "source": [
    "### Load the Federalist Papers corpus\n",
    "\n",
    "The following code loads the Federalist Papers corpus. The papers have been preprocessed to aid your analysis of the authorship of the papers."
   ]
  },
  {
   "cell_type": "code",
   "execution_count": 72,
   "metadata": {},
   "outputs": [
    {
     "data": {
      "text/html": [
       "<div>\n",
       "<style scoped>\n",
       "    .dataframe tbody tr th:only-of-type {\n",
       "        vertical-align: middle;\n",
       "    }\n",
       "\n",
       "    .dataframe tbody tr th {\n",
       "        vertical-align: top;\n",
       "    }\n",
       "\n",
       "    .dataframe thead th {\n",
       "        text-align: right;\n",
       "    }\n",
       "</style>\n",
       "<table border=\"1\" class=\"dataframe\">\n",
       "  <thead>\n",
       "    <tr style=\"text-align: right;\">\n",
       "      <th></th>\n",
       "      <th>text</th>\n",
       "      <th>paper_id</th>\n",
       "      <th>target</th>\n",
       "      <th>sentences</th>\n",
       "      <th>sentence_length</th>\n",
       "      <th>sentence_index</th>\n",
       "      <th>total_sentences</th>\n",
       "    </tr>\n",
       "  </thead>\n",
       "  <tbody>\n",
       "    <tr>\n",
       "      <th>0</th>\n",
       "      <td>Method of Guarding Against the Encroachments o...</td>\n",
       "      <td>49</td>\n",
       "      <td>dispt</td>\n",
       "      <td>Method of Guarding Against the Encroachments o...</td>\n",
       "      <td>25</td>\n",
       "      <td>0</td>\n",
       "      <td>63</td>\n",
       "    </tr>\n",
       "    <tr>\n",
       "      <th>0</th>\n",
       "      <td>Method of Guarding Against the Encroachments o...</td>\n",
       "      <td>49</td>\n",
       "      <td>dispt</td>\n",
       "      <td>Tuesday, February 5, 1788.</td>\n",
       "      <td>4</td>\n",
       "      <td>1</td>\n",
       "      <td>63</td>\n",
       "    </tr>\n",
       "    <tr>\n",
       "      <th>0</th>\n",
       "      <td>Method of Guarding Against the Encroachments o...</td>\n",
       "      <td>49</td>\n",
       "      <td>dispt</td>\n",
       "      <td>Author: Alexander Hamilton or James Madison</td>\n",
       "      <td>6</td>\n",
       "      <td>2</td>\n",
       "      <td>63</td>\n",
       "    </tr>\n",
       "    <tr>\n",
       "      <th>0</th>\n",
       "      <td>Method of Guarding Against the Encroachments o...</td>\n",
       "      <td>49</td>\n",
       "      <td>dispt</td>\n",
       "      <td>To the People of the State of New York:</td>\n",
       "      <td>9</td>\n",
       "      <td>3</td>\n",
       "      <td>63</td>\n",
       "    </tr>\n",
       "    <tr>\n",
       "      <th>0</th>\n",
       "      <td>Method of Guarding Against the Encroachments o...</td>\n",
       "      <td>49</td>\n",
       "      <td>dispt</td>\n",
       "      <td>THE author of the \"Notes on the State of Virgi...</td>\n",
       "      <td>56</td>\n",
       "      <td>4</td>\n",
       "      <td>63</td>\n",
       "    </tr>\n",
       "    <tr>\n",
       "      <th>0</th>\n",
       "      <td>Method of Guarding Against the Encroachments o...</td>\n",
       "      <td>49</td>\n",
       "      <td>dispt</td>\n",
       "      <td>The plan, like every thing from the same pen, ...</td>\n",
       "      <td>50</td>\n",
       "      <td>5</td>\n",
       "      <td>63</td>\n",
       "    </tr>\n",
       "    <tr>\n",
       "      <th>0</th>\n",
       "      <td>Method of Guarding Against the Encroachments o...</td>\n",
       "      <td>49</td>\n",
       "      <td>dispt</td>\n",
       "      <td>One of the precautions which he proposes, and ...</td>\n",
       "      <td>52</td>\n",
       "      <td>6</td>\n",
       "      <td>63</td>\n",
       "    </tr>\n",
       "    <tr>\n",
       "      <th>0</th>\n",
       "      <td>Method of Guarding Against the Encroachments o...</td>\n",
       "      <td>49</td>\n",
       "      <td>dispt</td>\n",
       "      <td>His proposition is, \"that whenever any two of ...</td>\n",
       "      <td>50</td>\n",
       "      <td>7</td>\n",
       "      <td>63</td>\n",
       "    </tr>\n",
       "    <tr>\n",
       "      <th>0</th>\n",
       "      <td>Method of Guarding Against the Encroachments o...</td>\n",
       "      <td>49</td>\n",
       "      <td>dispt</td>\n",
       "      <td>\"As the people are the only legitimate fountai...</td>\n",
       "      <td>81</td>\n",
       "      <td>8</td>\n",
       "      <td>63</td>\n",
       "    </tr>\n",
       "    <tr>\n",
       "      <th>0</th>\n",
       "      <td>Method of Guarding Against the Encroachments o...</td>\n",
       "      <td>49</td>\n",
       "      <td>dispt</td>\n",
       "      <td>The several departments being perfectly co-ord...</td>\n",
       "      <td>79</td>\n",
       "      <td>9</td>\n",
       "      <td>63</td>\n",
       "    </tr>\n",
       "  </tbody>\n",
       "</table>\n",
       "</div>"
      ],
      "text/plain": [
       "                                                text paper_id target  \\\n",
       "0  Method of Guarding Against the Encroachments o...       49  dispt   \n",
       "0  Method of Guarding Against the Encroachments o...       49  dispt   \n",
       "0  Method of Guarding Against the Encroachments o...       49  dispt   \n",
       "0  Method of Guarding Against the Encroachments o...       49  dispt   \n",
       "0  Method of Guarding Against the Encroachments o...       49  dispt   \n",
       "0  Method of Guarding Against the Encroachments o...       49  dispt   \n",
       "0  Method of Guarding Against the Encroachments o...       49  dispt   \n",
       "0  Method of Guarding Against the Encroachments o...       49  dispt   \n",
       "0  Method of Guarding Against the Encroachments o...       49  dispt   \n",
       "0  Method of Guarding Against the Encroachments o...       49  dispt   \n",
       "\n",
       "                                           sentences  sentence_length  \\\n",
       "0  Method of Guarding Against the Encroachments o...               25   \n",
       "0                         Tuesday, February 5, 1788.                4   \n",
       "0        Author: Alexander Hamilton or James Madison                6   \n",
       "0            To the People of the State of New York:                9   \n",
       "0  THE author of the \"Notes on the State of Virgi...               56   \n",
       "0  The plan, like every thing from the same pen, ...               50   \n",
       "0  One of the precautions which he proposes, and ...               52   \n",
       "0  His proposition is, \"that whenever any two of ...               50   \n",
       "0  \"As the people are the only legitimate fountai...               81   \n",
       "0  The several departments being perfectly co-ord...               79   \n",
       "\n",
       "   sentence_index  total_sentences  \n",
       "0               0               63  \n",
       "0               1               63  \n",
       "0               2               63  \n",
       "0               3               63  \n",
       "0               4               63  \n",
       "0               5               63  \n",
       "0               6               63  \n",
       "0               7               63  \n",
       "0               8               63  \n",
       "0               9               63  "
      ]
     },
     "execution_count": 72,
     "metadata": {},
     "output_type": "execute_result"
    }
   ],
   "source": [
    "corpus = pd.read_pickle('fp_corpus.pkl')\n",
    "corpus.head(10)"
   ]
  },
  {
   "cell_type": "markdown",
   "metadata": {},
   "source": [
    "The above datasets contains the following columns:\n",
    "\n",
    "- `paper_id`: The ID of the paper. This corresponds to the number of the paper in the Federalist Papers collection.\n",
    "- `author`: The author of the paper. This can be one of three values: `Hamilton`, `Madison`, `Jay`, `dispt` (disputed), and `HM` (Hamilton and Madison).\n",
    "- `text`: The text of the paper.\n",
    "- `sentence_length`: The token count of the sentence, defined as the number of tokens by splitting the sentence by spaces.\n",
    "- `sentence_index`: The index of the sentence in the paper.\n",
    "- `total_sentences`: The total number of sentences in the paper.\n",
    "\n",
    "The sentences were created by using the Spacy transformer library to split the text of papers into sentences."
   ]
  },
  {
   "cell_type": "code",
   "execution_count": 73,
   "metadata": {},
   "outputs": [
    {
     "data": {
      "text/plain": [
       "Hamilton    51\n",
       "Madison     15\n",
       "dispt       11\n",
       "Jay          5\n",
       "HM           3\n",
       "Name: target, dtype: int64"
      ]
     },
     "execution_count": 73,
     "metadata": {},
     "output_type": "execute_result"
    }
   ],
   "source": [
    "# drop the duplicates and keep target and paper_id\n",
    "authorship = corpus.drop_duplicates(subset=['paper_id', 'target'])\n",
    "authorship.target.value_counts()"
   ]
  },
  {
   "cell_type": "code",
   "execution_count": 100,
   "metadata": {},
   "outputs": [
    {
     "name": "stdout",
     "output_type": "stream",
     "text": [
      "Original shape: (6109, 7), Filtered shape: (4881, 7)\n"
     ]
    }
   ],
   "source": [
    "import pandas as pd\n",
    "\n",
    "# Load the DataFrame from the pickle file\n",
    "corpus = pd.read_pickle('fp_corpus.pkl')\n",
    "\n",
    "# Drop rows where the 'target' column is 'HM', 'dispt', or 'Jay'\n",
    "corpus_filtered = corpus[~corpus['target'].isin(['HM', 'dispt', 'Jay'])]\n",
    "\n",
    "# Print the shape of the filtered DataFrame to check the number of rows removed\n",
    "print(f\"Original shape: {corpus.shape}, Filtered shape: {corpus_filtered.shape}\")\n",
    "\n",
    "# Optionally, you can reassign corpus_filtered to corpus if you want to keep only the filtered rows\n",
    "corpus = corpus_filtered\n"
   ]
  },
  {
   "cell_type": "code",
   "execution_count": 101,
   "metadata": {},
   "outputs": [
    {
     "name": "stdout",
     "output_type": "stream",
     "text": [
      "Number of sentences for each author:\n",
      "target\n",
      "Hamilton    3606\n",
      "Madison     1275\n",
      "Name: sentences, dtype: int64\n"
     ]
    }
   ],
   "source": [
    "# Group the filtered data by the 'target' column and count the number of sentences for each author\n",
    "author_counts = corpus_filtered.groupby('target')['sentences'].count()\n",
    "\n",
    "# Print the number of sentences for each author\n",
    "print(\"Number of sentences for each author:\")\n",
    "print(author_counts)\n"
   ]
  },
  {
   "cell_type": "code",
   "execution_count": 107,
   "metadata": {},
   "outputs": [
    {
     "name": "stdout",
     "output_type": "stream",
     "text": [
      "Number of sentences for each author after balancing:\n",
      "Madison     1275\n",
      "Hamilton    1258\n",
      "Name: target, dtype: int64\n"
     ]
    }
   ],
   "source": [
    "import pandas as pd\n",
    "\n",
    "# Load the DataFrame from the pickle file\n",
    "corpus = pd.read_pickle('fp_corpus.pkl')\n",
    "\n",
    "# Filter out rows where the 'target' column is 'Hamilton' or 'Madison'\n",
    "corpus_filtered = corpus[corpus['target'].isin(['Hamilton', 'Madison'])]\n",
    "\n",
    "# Remove 2331 rows where the target is 'Hamilton'\n",
    "hamilton_indices = corpus_filtered[corpus_filtered['target'] == 'Hamilton'].index[:2331]\n",
    "corpus_filtered = corpus_filtered.drop(hamilton_indices)\n",
    "\n",
    "# Confirm that both 'Hamilton' and 'Madison' are present and 'Hamilton' has 1275 sentences\n",
    "author_counts = corpus_filtered['target'].value_counts()\n",
    "print(\"Number of sentences for each author after balancing:\")\n",
    "print(author_counts)\n",
    "\n",
    "# Save the modified DataFrame to a new pickle file\n",
    "corpus_filtered.to_pickle('fp_corpus_filtered.pkl')\n"
   ]
  },
  {
   "cell_type": "code",
   "execution_count": 108,
   "metadata": {},
   "outputs": [
    {
     "name": "stdout",
     "output_type": "stream",
     "text": [
      "Number of sentences for each author in the original dataset:\n",
      "Hamilton    3606\n",
      "Madison     1275\n",
      "dispt        759\n",
      "Jay          242\n",
      "HM           227\n",
      "Name: target, dtype: int64\n"
     ]
    }
   ],
   "source": [
    "# Determine the total number of sentences for each author in the original dataset\n",
    "author_counts_original = corpus['target'].value_counts()\n",
    "\n",
    "# Print the total number of sentences for each author in the original dataset\n",
    "print(\"Number of sentences for each author in the original dataset:\")\n",
    "print(author_counts_original)\n"
   ]
  },
  {
   "cell_type": "code",
   "execution_count": 112,
   "metadata": {},
   "outputs": [
    {
     "name": "stdout",
     "output_type": "stream",
     "text": [
      "Number of sentences for each author after balancing:\n",
      "Madison     1275\n",
      "Hamilton    1258\n",
      "Name: target, dtype: int64\n"
     ]
    },
    {
     "data": {
      "text/html": [
       "<div>\n",
       "<style scoped>\n",
       "    .dataframe tbody tr th:only-of-type {\n",
       "        vertical-align: middle;\n",
       "    }\n",
       "\n",
       "    .dataframe tbody tr th {\n",
       "        vertical-align: top;\n",
       "    }\n",
       "\n",
       "    .dataframe thead th {\n",
       "        text-align: right;\n",
       "    }\n",
       "</style>\n",
       "<table border=\"1\" class=\"dataframe\">\n",
       "  <thead>\n",
       "    <tr style=\"text-align: right;\">\n",
       "      <th></th>\n",
       "      <th>text</th>\n",
       "      <th>paper_id</th>\n",
       "      <th>target</th>\n",
       "      <th>sentences</th>\n",
       "      <th>sentence_length</th>\n",
       "      <th>sentence_index</th>\n",
       "      <th>total_sentences</th>\n",
       "    </tr>\n",
       "  </thead>\n",
       "  <tbody>\n",
       "    <tr>\n",
       "      <th>49</th>\n",
       "      <td>The Command of the Military and Naval Forces, ...</td>\n",
       "      <td>74</td>\n",
       "      <td>Hamilton</td>\n",
       "      <td>The Command of the Military and Naval Forces, ...</td>\n",
       "      <td>24</td>\n",
       "      <td>0</td>\n",
       "      <td>35</td>\n",
       "    </tr>\n",
       "    <tr>\n",
       "      <th>49</th>\n",
       "      <td>The Command of the Military and Naval Forces, ...</td>\n",
       "      <td>74</td>\n",
       "      <td>Hamilton</td>\n",
       "      <td>Author: Alexander Hamilton</td>\n",
       "      <td>3</td>\n",
       "      <td>1</td>\n",
       "      <td>35</td>\n",
       "    </tr>\n",
       "    <tr>\n",
       "      <th>49</th>\n",
       "      <td>The Command of the Military and Naval Forces, ...</td>\n",
       "      <td>74</td>\n",
       "      <td>Hamilton</td>\n",
       "      <td>To the People of the State of New York:</td>\n",
       "      <td>9</td>\n",
       "      <td>2</td>\n",
       "      <td>35</td>\n",
       "    </tr>\n",
       "    <tr>\n",
       "      <th>49</th>\n",
       "      <td>The Command of the Military and Naval Forces, ...</td>\n",
       "      <td>74</td>\n",
       "      <td>Hamilton</td>\n",
       "      <td>THE President of the United States is to be \"c...</td>\n",
       "      <td>37</td>\n",
       "      <td>3</td>\n",
       "      <td>35</td>\n",
       "    </tr>\n",
       "    <tr>\n",
       "      <th>49</th>\n",
       "      <td>The Command of the Military and Naval Forces, ...</td>\n",
       "      <td>74</td>\n",
       "      <td>Hamilton</td>\n",
       "      <td>The propriety of this provision is so evident ...</td>\n",
       "      <td>38</td>\n",
       "      <td>4</td>\n",
       "      <td>35</td>\n",
       "    </tr>\n",
       "  </tbody>\n",
       "</table>\n",
       "</div>"
      ],
      "text/plain": [
       "                                                 text paper_id    target  \\\n",
       "49  The Command of the Military and Naval Forces, ...       74  Hamilton   \n",
       "49  The Command of the Military and Naval Forces, ...       74  Hamilton   \n",
       "49  The Command of the Military and Naval Forces, ...       74  Hamilton   \n",
       "49  The Command of the Military and Naval Forces, ...       74  Hamilton   \n",
       "49  The Command of the Military and Naval Forces, ...       74  Hamilton   \n",
       "\n",
       "                                            sentences  sentence_length  \\\n",
       "49  The Command of the Military and Naval Forces, ...               24   \n",
       "49                         Author: Alexander Hamilton                3   \n",
       "49            To the People of the State of New York:                9   \n",
       "49  THE President of the United States is to be \"c...               37   \n",
       "49  The propriety of this provision is so evident ...               38   \n",
       "\n",
       "    sentence_index  total_sentences  \n",
       "49               0               35  \n",
       "49               1               35  \n",
       "49               2               35  \n",
       "49               3               35  \n",
       "49               4               35  "
      ]
     },
     "execution_count": 112,
     "metadata": {},
     "output_type": "execute_result"
    }
   ],
   "source": [
    "import pandas as pd\n",
    "\n",
    "# Load the DataFrame from the pickle file\n",
    "corpus = pd.read_pickle('fp_corpus.pkl')\n",
    "\n",
    "# Filter out rows where the 'target' column is 'Hamilton' or 'Madison'\n",
    "corpus_filtered = corpus[corpus['target'].isin(['Hamilton', 'Madison'])]\n",
    "\n",
    "# Remove 2331 rows where the target is 'Hamilton'\n",
    "hamilton_indices = corpus_filtered[corpus_filtered['target'] == 'Hamilton'].index[:2331]\n",
    "corpus_filtered = corpus_filtered.drop(hamilton_indices)\n",
    "\n",
    "# Confirm that both 'Hamilton' and 'Madison' are present and 'Hamilton' has 1275 sentences\n",
    "author_counts = corpus_filtered['target'].value_counts()\n",
    "print(\"Number of sentences for each author after balancing:\")\n",
    "print(author_counts)\n",
    "\n",
    "# Save the modified DataFrame to a new pickle file\n",
    "corpus_filtered.to_pickle('fp_corpus_filtered.pkl')\n",
    "\n",
    "corpus_filtered.head()\n"
   ]
  },
  {
   "cell_type": "code",
   "execution_count": null,
   "metadata": {},
   "outputs": [],
   "source": []
  },
  {
   "cell_type": "markdown",
   "metadata": {},
   "source": [
    "### Dataset creation\n",
    "\n",
    "Your task is to predict the author of a paper using the text of the paper. You will use a Recurrent Neural Network (RNN) to predict the author of a paper. You will use the Federalist Papers dataset to train and evaluate your model."
   ]
  },
  {
   "cell_type": "code",
   "execution_count": 78,
   "metadata": {},
   "outputs": [],
   "source": [
    "# Disputed authors dataset \n",
    "disputed = authorship[authorship['target'] == 'dispt']\n",
    "\n",
    "# Non-disputed authors dataset\n",
    "non_disputed = authorship[authorship['target'] != 'dispt']\n",
    "\n",
    "# Dataset for only Hamilton and Madison\n",
    "single_Hamilton_Madison = authorship[(authorship['target'] == 'Hamilton') & (authorship['target'] == 'Madison')]"
   ]
  },
  {
   "cell_type": "code",
   "execution_count": 79,
   "metadata": {},
   "outputs": [
    {
     "data": {
      "text/html": [
       "<div>\n",
       "<style scoped>\n",
       "    .dataframe tbody tr th:only-of-type {\n",
       "        vertical-align: middle;\n",
       "    }\n",
       "\n",
       "    .dataframe tbody tr th {\n",
       "        vertical-align: top;\n",
       "    }\n",
       "\n",
       "    .dataframe thead th {\n",
       "        text-align: right;\n",
       "    }\n",
       "</style>\n",
       "<table border=\"1\" class=\"dataframe\">\n",
       "  <thead>\n",
       "    <tr style=\"text-align: right;\">\n",
       "      <th></th>\n",
       "      <th>text</th>\n",
       "      <th>paper_id</th>\n",
       "      <th>target</th>\n",
       "      <th>sentences</th>\n",
       "      <th>sentence_length</th>\n",
       "      <th>sentence_index</th>\n",
       "      <th>total_sentences</th>\n",
       "    </tr>\n",
       "  </thead>\n",
       "  <tbody>\n",
       "  </tbody>\n",
       "</table>\n",
       "</div>"
      ],
      "text/plain": [
       "Empty DataFrame\n",
       "Columns: [text, paper_id, target, sentences, sentence_length, sentence_index, total_sentences]\n",
       "Index: []"
      ]
     },
     "execution_count": 79,
     "metadata": {},
     "output_type": "execute_result"
    }
   ],
   "source": [
    "single_Hamilton_Madison.head(10)"
   ]
  },
  {
   "cell_type": "markdown",
   "metadata": {},
   "source": [
    "### Plot the distribution of the number of papers written by each author."
   ]
  },
  {
   "cell_type": "code",
   "execution_count": 80,
   "metadata": {},
   "outputs": [
    {
     "data": {
      "image/png": "[encoded data removed]",
      "text/plain": [
       "<Figure size 576x432 with 1 Axes>"
      ]
     },
     "metadata": {},
     "output_type": "display_data"
    }
   ],
   "source": [
    "# Make a boxplot\n",
    "plt.figure(figsize=(8, 6))  # Set the figure size\n",
    "non_disputed.boxplot(column='sentence_length')\n",
    "\n",
    "# Add title and labels\n",
    "plt.title('Boxplot of Sentence Length in Non-Disputed Data')\n",
    "plt.xlabel('Non-Disputed')\n",
    "plt.ylabel('Sentence Length')\n",
    "\n",
    "# Show the plot\n",
    "plt.show()\n"
   ]
  },
  {
   "cell_type": "markdown",
   "metadata": {},
   "source": [
    "### Plot the distribution of sentence lengths for each author."
   ]
  },
  {
   "cell_type": "code",
   "execution_count": 81,
   "metadata": {},
   "outputs": [
    {
     "data": {
      "image/png": "[encoded data removed]",
      "text/plain": [
       "<Figure size 720x432 with 1 Axes>"
      ]
     },
     "metadata": {},
     "output_type": "display_data"
    }
   ],
   "source": [
    "import seaborn as sns\n",
    "\n",
    "# Set the style of the seaborn plots\n",
    "sns.set(style=\"whitegrid\")\n",
    "\n",
    "# Create separate boxplots for each target variable\n",
    "plt.figure(figsize=(10, 6))\n",
    "sns.boxplot(x='target', y='sentence_length', data=non_disputed, width=0.3, showfliers=True)\n",
    "plt.title('Boxplot of Sentence Length by Target Variable')\n",
    "plt.xlabel('Target Variable')\n",
    "plt.ylabel('Sentence Length')\n",
    "plt.xticks(rotation=45)  # Rotate x-axis labels for better visibility\n",
    "plt.tight_layout()  # Adjust layout to prevent clipping of labels\n",
    "plt.show()\n"
   ]
  },
  {
   "cell_type": "markdown",
   "metadata": {},
   "source": [
    "### Prepare dataset for training\n",
    "\n",
    "Prepare a training, validation, and test dataset. What is your X and y? What is the size of your training, validation, and test dataset?"
   ]
  },
  {
   "cell_type": "code",
   "execution_count": 82,
   "metadata": {},
   "outputs": [
    {
     "name": "stdout",
     "output_type": "stream",
     "text": [
      "Training samples: 4887\n",
      "Validation samples: 1222\n"
     ]
    }
   ],
   "source": [
    "from sklearn.model_selection import train_test_split\n",
    "\n",
    "X_train, x_val, y_train, y_val = train_test_split(\n",
    "    corpus['text'], corpus['target'], test_size=0.2, random_state=404)\n",
    "print(f'Training samples: {len(X_train)}')\n",
    "print(f'Validation samples: {len(x_val)}')"
   ]
  },
  {
   "cell_type": "markdown",
   "metadata": {},
   "source": [
    "#### Visualize some random samples"
   ]
  },
  {
   "cell_type": "code",
   "execution_count": 83,
   "metadata": {},
   "outputs": [
    {
     "name": "stdout",
     "output_type": "stream",
     "text": [
      "Random sentence: The Same Subject Continued: The Idea of Restraining the Legislative Authority in Regard to the Common Defense Considered For the Independent Journal. Author: Alexander Hamilton To the People of the State of New York: THAT there may happen cases in which the national government may be necessitated to resort to force, cannot be denied. Our own experience has corroborated the lessons taught by the examples of other nations; that emergencies of this sort will sometimes arise in all societies, however constituted; that seditions and insurrections are, unhappily, maladies as inseparable from the body politic as tumors and eruptions from the natural body; that the idea of governing at all times by the simple force of law (which we have been told is the only admissible principle of republican government), has no place but in the reveries of those political doctors whose sagacity disdains the admonitions of experimental instruction. Should such emergencies at any time happen under the national government, there could be no remedy but force. The means to be employed must be proportioned to the extent of the mischief. If it should be a slight commotion in a small part of a State, the militia of the residue would be adequate to its suppression; and the national presumption is that they would be ready to do their duty. An insurrection, whatever may be its immediate cause, eventually endangers all government. Regard to the public peace, if not to the rights of the Union, would engage the citizens to whom the contagion had not communicated itself to oppose the insurgents; and if the general government should be found in practice conducive to the prosperity and felicity of the people, it were irrational to believe that they would be disinclined to its support. If, on the contrary, the insurrection should pervade a whole State, or a principal part of it, the employment of a different kind of force might become unavoidable. It appears that Massachusetts found it necessary to raise troops for repressing the disorders within that State; that Pennsylvania, from the mere apprehension of commotions among a part of her citizens, has thought proper to have recourse to the same measure. Suppose the State of New York had been inclined to re-establish her lost jurisdiction over the inhabitants of Vermont, could she have hoped for success in such an enterprise from the efforts of the militia alone? Would she not have been compelled to raise and to maintain a more regular force for the execution of her design? If it must then be admitted that the necessity of recurring to a force different from the militia, in cases of this extraordinary nature, is applicable to the State governments themselves, why should the possibility, that the national government might be under a like necessity, in similar extremities, be made an objection to its existence? Is it not surprising that men who declare an attachment to the Union in the abstract, should urge as an objection to the proposed Constitution what applies with tenfold weight to the plan for which they contend; and what, as far as it has any foundation in truth, is an inevitable consequence of civil society upon an enlarged scale? Who would not prefer that possibility to the unceasing agitations and frequent revolutions which are the continual scourges of petty republics? Let us pursue this examination in another light. Suppose, in lieu of one general system, two, or three, or even four Confederacies were to be formed, would not the same difficulty oppose itself to the operations of either of these Confederacies? Would not each of them be exposed to the same casualties; and when these happened, be obliged to have recourse to the same expedients for upholding its authority which are objected to in a government for all the States? Would the militia, in this supposition, be more ready or more able to support the federal authority than in the case of a general union? All candid and intelligent men must, upon due consideration, acknowledge that the principle of the objection is equally applicable to either of the two cases; and that whether we have one government for all the States, or different governments for different parcels of them, or even if there should be an entire separation of the States, there might sometimes be a necessity to make use of a force constituted differently from the militia, to preserve the peace of the community and to maintain the just authority of the laws against those violent invasions of them which amount to insurrections and rebellions. Independent of all other reasonings upon the subject, it is a full answer to those who require a more peremptory provision against military establishments in time of peace, to say that the whole power of the proposed government is to be in the hands of the representatives of the people. This is the essential, and, after all, only efficacious security for the rights and privileges of the people, which is attainable in civil society. [1] If the representatives of the people betray their constituents, there is then no resource left but in the exertion of that original right of self-defense which is paramount to all positive forms of government, and which against the usurpations of the national rulers, may be exerted with infinitely better prospect of success than against those of the rulers of an individual state. In a single state, if the persons intrusted with supreme power become usurpers, the different parcels, subdivisions, or districts of which it consists, having no distinct government in each, can take no regular measures for defense. The citizens must rush tumultuously to arms, without concert, without system, without resource; except in their courage and despair. The usurpers, clothed with the forms of legal authority, can too often crush the opposition in embryo. The smaller the extent of the territory, the more difficult will it be for the people to form a regular or systematic plan of opposition, and the more easy will it be to defeat their early efforts. Intelligence can be more speedily obtained of their preparations and movements, and the military force in the possession of the usurpers can be more rapidly directed against the part where the opposition has begun. In this situation there must be a peculiar coincidence of circumstances to insure success to the popular resistance. The obstacles to usurpation and the facilities of resistance increase with the increased extent of the state, provided the citizens understand their rights and are disposed to defend them. The natural strength of the people in a large community, in proportion to the artificial strength of the government, is greater than in a small, and of course more competent to a struggle with the attempts of the government to establish a tyranny. But in a confederacy the people, without exaggeration, may be said to be entirely the masters of their own fate. Power being almost always the rival of power, the general government will at all times stand ready to check the usurpations of the state governments, and these will have the same disposition towards the general government. The people, by throwing themselves into either scale, will infallibly make it preponderate. If their rights are invaded by either, they can make use of the other as the instrument of redress. How wise will it be in them by cherishing the union to preserve to themselves an advantage which can never be too highly prized! It may safely be received as an axiom in our political system, that the State governments will, in all possible contingencies, afford complete security against invasions of the public liberty by the national authority. Projects of usurpation cannot be masked under pretenses so likely to escape the penetration of select bodies of men, as of the people at large. The legislatures will have better means of information. They can discover the danger at a distance; and possessing all the organs of civil power, and the confidence of the people, they can at once adopt a regular plan of opposition, in which they can combine all the resources of the community. They can readily communicate with each other in the different States, and unite their common forces for the protection of their common liberty. The great extent of the country is a further security. We have already experienced its utility against the attacks of a foreign power. And it would have precisely the same effect against the enterprises of ambitious rulers in the national councils. If the federal army should be able to quell the resistance of one State, the distant States would have it in their power to make head with fresh forces. The advantages obtained in one place must be abandoned to subdue the opposition in others; and the moment the part which had been reduced to submission was left to itself, its efforts would be renewed, and its resistance revive. We should recollect that the extent of the military force must, at all events, be regulated by the resources of the country. For a long time to come, it will not be possible to maintain a large army; and as the means of doing this increase, the population and natural strength of the community will proportionably increase. When will the time arrive that the federal government can raise and maintain an army capable of erecting a despotism over the great body of the people of an immense empire, who are in a situation, through the medium of their State governments, to take measures for their own defense, with all the celerity, regularity, and system of independent nations? The apprehension may be considered as a disease, for which there can be found no cure in the resources of argument and reasoning. PUBLIUS. 1. Its full efficacy will be examined hereafter.\n",
      "Author: Hamilton\n"
     ]
    }
   ],
   "source": [
    "import random\n",
    "\n",
    "# sample a random sentence from the training set\n",
    "random_idx = random.randint(0, len(X_train))\n",
    "print(f'Random sentence: {X_train.iloc[random_idx]}')\n",
    "print(f'Author: {y_train.iloc[random_idx]}')"
   ]
  },
  {
   "cell_type": "code",
   "execution_count": 84,
   "metadata": {},
   "outputs": [
    {
     "data": {
      "image/png": "[encoded data removed]",
      "text/plain": [
       "<Figure size 720x216 with 1 Axes>"
      ]
     },
     "metadata": {},
     "output_type": "display_data"
    },
    {
     "data": {
      "image/png": "[encoded data removed]",
      "text/plain": [
       "<Figure size 720x216 with 1 Axes>"
      ]
     },
     "metadata": {},
     "output_type": "display_data"
    },
    {
     "data": {
      "image/png": "[encoded data removed]",
      "text/plain": [
       "<Figure size 720x216 with 1 Axes>"
      ]
     },
     "metadata": {},
     "output_type": "display_data"
    }
   ],
   "source": [
    "import textwrap\n",
    "\n",
    "# 3 random sentences from the corpus\n",
    "random_indices = random.sample(range(len(corpus)), 3)\n",
    "random_sentences = corpus.iloc[random_indices]['sentences']\n",
    "\n",
    "max_chars_per_line = 50\n",
    "\n",
    "# Plot an empty graph for each sentence\n",
    "for i, random_sentence in enumerate(random_sentences):\n",
    "    wrapped_sentence = textwrap.fill(random_sentence, max_chars_per_line)\n",
    "    plt.figure(figsize=(10, 3))\n",
    "    plt.axis('off')\n",
    "    plt.text(0.5, 0.5, wrapped_sentence, wrap=True, ha='center', va='center', fontsize=12)\n",
    "    plt.title(f'Random Sentence {i+1}')\n",
    "    plt.show()\n"
   ]
  },
  {
   "cell_type": "code",
   "execution_count": 85,
   "metadata": {},
   "outputs": [
    {
     "data": {
      "image/png": "[encoded data removed]",
      "text/plain": [
       "<Figure size 720x576 with 1 Axes>"
      ]
     },
     "metadata": {},
     "output_type": "display_data"
    }
   ],
   "source": [
    "from sklearn.decomposition import PCA\n",
    "from sklearn.feature_extraction.text import TfidfVectorizer\n",
    "from mpl_toolkits.mplot3d import Axes3D\n",
    "\n",
    "# Use TF-IDF to vectorize the text data\n",
    "tfidf_vectorizer = TfidfVectorizer(max_features=1000)\n",
    "X_train_tfidf = tfidf_vectorizer.fit_transform(X_train)\n",
    "\n",
    "# Apply PCA to reduce the dimensionality to 3 components\n",
    "pca = PCA(n_components=3)\n",
    "X_train_pca = pca.fit_transform(X_train_tfidf.toarray())\n",
    "\n",
    "# Create a DataFrame for the PCA-transformed data\n",
    "df_pca = pd.DataFrame(X_train_pca, columns=['PC1', 'PC2', 'PC3'])\n",
    "\n",
    "# Add the author labels to the DataFrame\n",
    "df_pca['Author'] = y_train.values\n",
    "\n",
    "# Plot the data in 3D\n",
    "fig = plt.figure(figsize=(10, 8))\n",
    "ax = fig.add_subplot(111, projection='3d')\n",
    "\n",
    "# Scatter plot for each author\n",
    "authors = df_pca['Author'].unique()\n",
    "colors = ['r', 'g', 'b', 'c', 'm', 'y', 'k']\n",
    "for author, color in zip(authors, colors):\n",
    "    df_author = df_pca[df_pca['Author'] == author]\n",
    "    ax.scatter(df_author['PC1'], df_author['PC2'], df_author['PC3'], c=color, label=author)\n",
    "\n",
    "ax.set_xlabel('PC1')\n",
    "ax.set_ylabel('PC2')\n",
    "ax.set_zlabel('PC3')\n",
    "ax.set_title('PCA Visualization of Text Data in 3D')\n",
    "ax.legend()\n",
    "plt.show()\n"
   ]
  },
  {
   "cell_type": "markdown",
   "metadata": {},
   "source": [
    "#### Plot the distribution of training and validation samples\n",
    "\n",
    "Have you split the dataset in a stratified manner? Explain why it is important to split the dataset in a stratified manner. If you have not, explain why you did not split the dataset in a stratified manner. See the documentation for [train_test_split](https://scikit-learn.org/stable/modules/generated/sklearn.model_selection.train_test_split.html) for more information."
   ]
  },
  {
   "cell_type": "markdown",
   "metadata": {},
   "source": [
    "#### Plot the datasets"
   ]
  },
  {
   "cell_type": "code",
   "execution_count": 86,
   "metadata": {},
   "outputs": [
    {
     "name": "stderr",
     "output_type": "stream",
     "text": [
      "c:\\Users\\Yera\\anaconda3\\lib\\site-packages\\seaborn\\_decorators.py:36: FutureWarning: Pass the following variable as a keyword arg: x. From version 0.12, the only valid positional argument will be `data`, and passing other arguments without an explicit keyword will result in an error or misinterpretation.\n",
      "  warnings.warn(\n",
      "c:\\Users\\Yera\\anaconda3\\lib\\site-packages\\seaborn\\_decorators.py:36: FutureWarning: Pass the following variable as a keyword arg: x. From version 0.12, the only valid positional argument will be `data`, and passing other arguments without an explicit keyword will result in an error or misinterpretation.\n",
      "  warnings.warn(\n"
     ]
    },
    {
     "data": {
      "image/png": "[encoded data removed]",
      "text/plain": [
       "<Figure size 1080x432 with 2 Axes>"
      ]
     },
     "metadata": {},
     "output_type": "display_data"
    }
   ],
   "source": [
    "fig, ax = plt.subplots(1, 2, figsize=(15, 6))\n",
    "\n",
    "# training set\n",
    "sns.countplot(y_train, ax=ax[0])\n",
    "ax[0].set_title('Training Set Distribution')\n",
    "\n",
    "# validation set\n",
    "sns.countplot(y_val, ax=ax[1])\n",
    "ax[1].set_title('Validation Set Distribution')\n",
    "\n",
    "plt.show()"
   ]
  },
  {
   "cell_type": "markdown",
   "metadata": {},
   "source": [
    "#### Convert the target labels to one hot encodings"
   ]
  },
  {
   "cell_type": "code",
   "execution_count": 87,
   "metadata": {},
   "outputs": [
    {
     "name": "stdout",
     "output_type": "stream",
     "text": [
      "One hot encoded training labels shape: (4887, 5)\n",
      "One hot encoded validation labels shape: (1222, 5)\n"
     ]
    }
   ],
   "source": [
    "from sklearn.preprocessing import OneHotEncoder\n",
    "\n",
    "ohe = OneHotEncoder()\n",
    "\n",
    "y_train_ohe = ohe.fit_transform(y_train.values.reshape(-1, 1))\n",
    "y_val_ohe = ohe.transform(y_val.values.reshape(-1, 1))\n",
    "\n",
    "print(f'One hot encoded training labels shape: {y_train_ohe.shape}')\n",
    "print(f'One hot encoded validation labels shape: {y_val_ohe.shape}')"
   ]
  },
  {
   "cell_type": "code",
   "execution_count": 88,
   "metadata": {},
   "outputs": [
    {
     "data": {
      "text/plain": [
       "(<5x5 sparse matrix of type '<class 'numpy.float64'>'\n",
       " \twith 5 stored elements in Compressed Sparse Row format>,\n",
       " 72     Madison\n",
       " 78     Madison\n",
       " 45    Hamilton\n",
       " 34    Hamilton\n",
       " 44    Hamilton\n",
       " Name: target, dtype: object)"
      ]
     },
     "execution_count": 88,
     "metadata": {},
     "output_type": "execute_result"
    }
   ],
   "source": [
    "y_train_ohe[:5], y_train[:5]"
   ]
  },
  {
   "cell_type": "markdown",
   "metadata": {},
   "source": [
    "#### Encode the labels"
   ]
  },
  {
   "cell_type": "code",
   "execution_count": 89,
   "metadata": {},
   "outputs": [
    {
     "name": "stdout",
     "output_type": "stream",
     "text": [
      "Label encoded training labels shape: (4887,)\n",
      "Label encoded validation labels shape: (1222,)\n"
     ]
    }
   ],
   "source": [
    "from sklearn.preprocessing import LabelEncoder\n",
    "\n",
    "label_encoder = LabelEncoder()\n",
    "y_train_le = label_encoder.fit_transform(y_train)\n",
    "y_val_le = label_encoder.transform(y_val)\n",
    "\n",
    "print(f'Label encoded training labels shape: {y_train_le.shape}')\n",
    "print(f'Label encoded validation labels shape: {y_val_le.shape}')"
   ]
  },
  {
   "cell_type": "code",
   "execution_count": 90,
   "metadata": {},
   "outputs": [
    {
     "name": "stdout",
     "output_type": "stream",
     "text": [
      "Original label: Madison - Label encoded: 3\n",
      "Original label: Madison - Label encoded: 3\n",
      "Original label: Hamilton - Label encoded: 1\n",
      "Original label: Hamilton - Label encoded: 1\n",
      "Original label: Hamilton - Label encoded: 1\n"
     ]
    }
   ],
   "source": [
    "for i in range(5):\n",
    "    print(f'Original label: {y_train.iloc[i]} - Label encoded: {y_train_le[i]}')"
   ]
  },
  {
   "cell_type": "code",
   "execution_count": 91,
   "metadata": {},
   "outputs": [
    {
     "data": {
      "text/plain": [
       "(5, array(['HM', 'Hamilton', 'Jay', 'Madison', 'dispt'], dtype=object))"
      ]
     },
     "execution_count": 91,
     "metadata": {},
     "output_type": "execute_result"
    }
   ],
   "source": [
    "num_classes = len(label_encoder.classes_)\n",
    "class_names = label_encoder.classes_\n",
    "num_classes, class_names"
   ]
  },
  {
   "cell_type": "markdown",
   "metadata": {},
   "source": [
    "## Train a TF-IDF model"
   ]
  },
  {
   "cell_type": "code",
   "execution_count": 92,
   "metadata": {},
   "outputs": [],
   "source": [
    "from sklearn.feature_extraction.text import TfidfVectorizer\n",
    "from sklearn.pipeline import Pipeline\n",
    "from sklearn.svm import SVC"
   ]
  },
  {
   "cell_type": "code",
   "execution_count": 93,
   "metadata": {},
   "outputs": [
    {
     "data": {
      "text/plain": [
       "Pipeline(steps=[('tfidf', TfidfVectorizer()),\n",
       "                ('clf', SVC(kernel='linear', random_state=42))])"
      ]
     },
     "execution_count": 93,
     "metadata": {},
     "output_type": "execute_result"
    }
   ],
   "source": [
    "text_clf = Pipeline([\n",
    "    ('tfidf', TfidfVectorizer()),\n",
    "    ('clf', SVC(kernel='linear', C=1.0, random_state=42))\n",
    "])\n",
    "\n",
    "# fit the model\n",
    "text_clf.fit(X_train, y_train_le)"
   ]
  },
  {
   "cell_type": "code",
   "execution_count": 94,
   "metadata": {},
   "outputs": [
    {
     "data": {
      "text/plain": [
       "1.0"
      ]
     },
     "execution_count": 94,
     "metadata": {},
     "output_type": "execute_result"
    }
   ],
   "source": [
    "text_clf.score(x_val, y_val_le)"
   ]
  },
  {
   "cell_type": "markdown",
   "metadata": {},
   "source": [
    "### Explain the TF-IDF model\n",
    "\n",
    "- What is the TF-IDF model?\n",
    "- How does the TF-IDF model work?\n",
    "- What are the hyperparameters of the TF-IDF model?\n",
    "- How do you select the hyperparameters of the TF-IDF model?\n",
    "- Why is it helpful to establish a baseline model?"
   ]
  },
  {
   "cell_type": "markdown",
   "metadata": {},
   "source": [
    "#### What is the TF-IDF model?\n",
    "Term Frequency-Inverse Document Frequency (TF-IDF) is a statistical measure to measure the importance of terms used in a document in relation to the corpus. Through TF-IDF, the texts get vectorized and gets scored by importance. \n",
    "\n",
    "#### How does the TF-IDF model work?\n",
    "In TF-IDF model, the term frequency(TF, how many times a word appears in a document) is multiplied by the inverse document frequency (IDF, how many times a word appears across the corpus.) IDF shows the significance of the term in the entire corpus. \n",
    "\n",
    "#### What are the hyperparameters of the TF-IDF model?\n",
    "Some of the hyperparameters of the TF-IDF model are:\n",
    "\"max_features\": maximum number of features\n",
    "\"ngram_range\": number of different n-grams \n",
    "\"stop-words\": words to be ignored, such as \"the.\"\n",
    "\"max_df\": maximum number a term can appear in the document (rest will be ignored)\n",
    "\"min_dif\": minimum number a term must appear in the document to be included in the analysis\n",
    "\n",
    "#### How do you select the hyperparameters of the TF-IDF model?\n",
    "There are several ways to choose hyperparameters of the TF-IDF model, such as grid search or randomized search. Cross validation can also be implemented in the process. Otherwise, it is possible to experiment with different parameters to have the best performance on a validation set. \n",
    "\n",
    "#### Why is it helpful to establish a baseline model?\n",
    "A baseline model can provide a simple solution and also be a good comparison model, or a point of reference to the more advanced and developed models. \n"
   ]
  },
  {
   "cell_type": "markdown",
   "metadata": {},
   "source": []
  }
 ],
 "metadata": {
  "kernelspec": {
   "display_name": "fed_papers",
   "language": "python",
   "name": "python3"
  },
  "language_info": {
   "codemirror_mode": {
    "name": "ipython",
    "version": 3
   },
   "file_extension": ".py",
   "mimetype": "text/x-python",
   "name": "python",
   "nbconvert_exporter": "python",
   "pygments_lexer": "ipython3",
   "version": "3.9.12"
  }
 },
 "nbformat": 4,
 "nbformat_minor": 2
}
